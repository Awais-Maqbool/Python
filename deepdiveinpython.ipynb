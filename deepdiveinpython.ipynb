{
 "cells": [
  {
   "cell_type": "markdown",
   "id": "376f35a9-17d1-4410-8be7-b4d420d6d263",
   "metadata": {
    "jupyter": {
     "source_hidden": true
    }
   },
   "source": [
    "Aliasing\n",
    "\n",
    "\n",
    "\n",
    "id(a)"
   ]
  },
  {
   "cell_type": "code",
   "execution_count": null,
   "id": "a8a870f0-bd77-4ea9-b45a-619de4d82ff7",
   "metadata": {},
   "outputs": [],
   "source": []
  },
  {
   "cell_type": "code",
   "execution_count": 1,
   "id": "0a332f32-6775-47c0-adb0-38a23e9da969",
   "metadata": {},
   "outputs": [
    {
     "name": "stdout",
     "output_type": "stream",
     "text": [
      "5\n"
     ]
    }
   ],
   "source": [
    "a = 5\n",
    "print(a)"
   ]
  },
  {
   "cell_type": "code",
   "execution_count": 3,
   "id": "c301e0cb-ec76-4e54-a919-427fd12e21d6",
   "metadata": {},
   "outputs": [],
   "source": [
    "b = a"
   ]
  },
  {
   "cell_type": "code",
   "execution_count": 4,
   "id": "0bac1145-847f-46c4-85b4-e10261ffa925",
   "metadata": {},
   "outputs": [
    {
     "data": {
      "text/plain": [
       "140731127477288"
      ]
     },
     "execution_count": 4,
     "metadata": {},
     "output_type": "execute_result"
    }
   ],
   "source": [
    "id(b)"
   ]
  },
  {
   "cell_type": "code",
   "execution_count": 5,
   "id": "502df650-8550-4f83-80db-21ce01ce6264",
   "metadata": {},
   "outputs": [
    {
     "data": {
      "text/plain": [
       "140731127477288"
      ]
     },
     "execution_count": 5,
     "metadata": {},
     "output_type": "execute_result"
    }
   ],
   "source": [
    "c = a\n",
    "id(c)"
   ]
  },
  {
   "cell_type": "code",
   "execution_count": 6,
   "id": "925611c0-01a1-4ebc-a684-e80e173183f0",
   "metadata": {},
   "outputs": [],
   "source": [
    "del a"
   ]
  },
  {
   "cell_type": "code",
   "execution_count": 8,
   "id": "da5fdd5d-943d-4089-813d-35919177bbde",
   "metadata": {},
   "outputs": [
    {
     "data": {
      "text/plain": [
       "140731127477288"
      ]
     },
     "execution_count": 8,
     "metadata": {},
     "output_type": "execute_result"
    }
   ],
   "source": [
    "id(b)"
   ]
  },
  {
   "cell_type": "markdown",
   "id": "17be8f6c-fd56-4ef3-b40b-955b9e402b2d",
   "metadata": {},
   "source": [
    "Reference Count\n"
   ]
  },
  {
   "cell_type": "code",
   "execution_count": 15,
   "id": "23cccd6f-f8d5-41f1-9b9b-4508fa1c955a",
   "metadata": {},
   "outputs": [
    {
     "data": {
      "text/plain": [
       "4"
      ]
     },
     "execution_count": 15,
     "metadata": {},
     "output_type": "execute_result"
    }
   ],
   "source": [
    "import sys\n",
    "a = \"corona\"\n",
    "b = a\n",
    "c = b\n",
    "sys.getrefcount(a)\n",
    "print(sys.getrefcount(a))\n",
    "print(sys.getrefcount(b))\n",
    "print(sys.getrefcount(c))"
   ]
  },
  {
   "cell_type": "markdown",
   "id": "d43d1039-8755-4917-b172-249d9a3eefe7",
   "metadata": {},
   "source": [
    "Weired Behaviour\n"
   ]
  },
  {
   "cell_type": "code",
   "execution_count": 16,
   "id": "c1d7a729-42f3-4a6a-bddb-989d59990971",
   "metadata": {},
   "outputs": [
    {
     "data": {
      "text/plain": [
       "4294967295"
      ]
     },
     "execution_count": 16,
     "metadata": {},
     "output_type": "execute_result"
    }
   ],
   "source": [
    "a = 2\n",
    "b = a\n",
    "c = b\n",
    "sys.getrefcount(a)"
   ]
  },
  {
   "cell_type": "code",
   "execution_count": 19,
   "id": "6ec54602-d01e-4094-ace3-a39e7177d449",
   "metadata": {},
   "outputs": [
    {
     "data": {
      "text/plain": [
       "4294967295"
      ]
     },
     "execution_count": 19,
     "metadata": {},
     "output_type": "execute_result"
    }
   ],
   "source": [
    "a = -2\n",
    "b = a\n",
    "c = b\n",
    "sys.getrefcount(a)"
   ]
  },
  {
   "cell_type": "code",
   "execution_count": 21,
   "id": "07e3000b-3cb6-4a9e-90d9-8bf843d1a7fe",
   "metadata": {},
   "outputs": [
    {
     "data": {
      "text/plain": [
       "4294967295"
      ]
     },
     "execution_count": 21,
     "metadata": {},
     "output_type": "execute_result"
    }
   ],
   "source": [
    "a = 61\n",
    "b = a\n",
    "c = b\n",
    "sys.getrefcount(b)"
   ]
  },
  {
   "cell_type": "code",
   "execution_count": 23,
   "id": "c168b692-fa9b-40da-9efb-e758e46093ff",
   "metadata": {},
   "outputs": [
    {
     "data": {
      "text/plain": [
       "5"
      ]
     },
     "execution_count": 23,
     "metadata": {},
     "output_type": "execute_result"
    }
   ],
   "source": [
    "d = 717\n",
    "f = d\n",
    "g = f\n",
    "sys.getrefcount(d)"
   ]
  },
  {
   "cell_type": "code",
   "execution_count": 24,
   "id": "2466e196-7ff5-487e-8c5b-0851c75f0ff6",
   "metadata": {},
   "outputs": [
    {
     "data": {
      "text/plain": [
       "5"
      ]
     },
     "execution_count": 24,
     "metadata": {},
     "output_type": "execute_result"
    }
   ],
   "source": [
    "d = 7170\n",
    "f = d\n",
    "g = f\n",
    "sys.getrefcount(d)"
   ]
  },
  {
   "cell_type": "markdown",
   "id": "9cb58801-e2e0-4f43-8e1a-3829620b0c39",
   "metadata": {},
   "source": [
    "a = \"awais\"\n",
    "b = \"awais\"\n",
    "id(a)\n"
   ]
  },
  {
   "cell_type": "code",
   "execution_count": 28,
   "id": "6bc7cb59-bb44-4a39-9504-1ae175d921f0",
   "metadata": {},
   "outputs": [
    {
     "data": {
      "text/plain": [
       "2326696604800"
      ]
     },
     "execution_count": 28,
     "metadata": {},
     "output_type": "execute_result"
    }
   ],
   "source": [
    "id(b)"
   ]
  },
  {
   "cell_type": "code",
   "execution_count": 29,
   "id": "f8caf4ab-4bbb-4e58-b305-c67e48594dbe",
   "metadata": {},
   "outputs": [
    {
     "data": {
      "text/plain": [
       "2326708537008"
      ]
     },
     "execution_count": 29,
     "metadata": {},
     "output_type": "execute_result"
    }
   ],
   "source": [
    "a = \"aawais maqbool\"\n",
    "b = \"aawais maqbool\"\n",
    "id(a)"
   ]
  },
  {
   "cell_type": "code",
   "execution_count": 30,
   "id": "676739bd-9638-4fd7-8de3-9b3f2cdd8bee",
   "metadata": {},
   "outputs": [
    {
     "data": {
      "text/plain": [
       "2326708278640"
      ]
     },
     "execution_count": 30,
     "metadata": {},
     "output_type": "execute_result"
    }
   ],
   "source": [
    "id(b)"
   ]
  },
  {
   "cell_type": "code",
   "execution_count": 31,
   "id": "542108e9-ece6-40a1-9953-478f0dc052e2",
   "metadata": {},
   "outputs": [
    {
     "data": {
      "text/plain": [
       "2326708287792"
      ]
     },
     "execution_count": 31,
     "metadata": {},
     "output_type": "execute_result"
    }
   ],
   "source": [
    "a = \"awais-maqbool\"\n",
    "b = \"awais-maqbool\"\n",
    "id(a)"
   ]
  },
  {
   "cell_type": "code",
   "execution_count": 32,
   "id": "3cd2e8e6-58ae-4cf8-b49e-e186b69a69b3",
   "metadata": {},
   "outputs": [
    {
     "data": {
      "text/plain": [
       "2326708278896"
      ]
     },
     "execution_count": 32,
     "metadata": {},
     "output_type": "execute_result"
    }
   ],
   "source": [
    "id(b)"
   ]
  },
  {
   "cell_type": "markdown",
   "id": "2664ee07-b2e3-4cd0-82df-331290ba2f5c",
   "metadata": {},
   "source": [
    "Mutability"
   ]
  },
  {
   "cell_type": "code",
   "execution_count": 33,
   "id": "e6e72806-419e-4b78-a0f4-cecafb611ee0",
   "metadata": {},
   "outputs": [
    {
     "data": {
      "text/plain": [
       "2326696606000"
      ]
     },
     "execution_count": 33,
     "metadata": {},
     "output_type": "execute_result"
    }
   ],
   "source": [
    "a = \"awais\"\n",
    "id(a)\n"
   ]
  },
  {
   "cell_type": "code",
   "execution_count": 34,
   "id": "cf7bfdb7-eb06-4925-a064-231d22b54cd7",
   "metadata": {},
   "outputs": [
    {
     "data": {
      "text/plain": [
       "2326708286320"
      ]
     },
     "execution_count": 34,
     "metadata": {},
     "output_type": "execute_result"
    }
   ],
   "source": [
    "a = a + \"maqbool\"\n",
    "id(a)"
   ]
  },
  {
   "cell_type": "code",
   "execution_count": 36,
   "id": "714e099d-13d6-4d99-a890-53ccd5074ba5",
   "metadata": {},
   "outputs": [
    {
     "data": {
      "text/plain": [
       "2326708334912"
      ]
     },
     "execution_count": 36,
     "metadata": {},
     "output_type": "execute_result"
    }
   ],
   "source": [
    "a = (1,2,3)\n",
    "id(a)"
   ]
  },
  {
   "cell_type": "code",
   "execution_count": 37,
   "id": "2b4e1799-cca9-4850-b37e-da16b77f726d",
   "metadata": {},
   "outputs": [
    {
     "data": {
      "text/plain": [
       "2326708266992"
      ]
     },
     "execution_count": 37,
     "metadata": {},
     "output_type": "execute_result"
    }
   ],
   "source": [
    "a = a + (1,2)\n",
    "id(a)"
   ]
  },
  {
   "cell_type": "code",
   "execution_count": 38,
   "id": "aa9eed4a-8a75-4a6c-b259-edf5379c020b",
   "metadata": {},
   "outputs": [
    {
     "data": {
      "text/plain": [
       "140731127477288"
      ]
     },
     "execution_count": 38,
     "metadata": {},
     "output_type": "execute_result"
    }
   ],
   "source": [
    "a = 5\n",
    "id(a)"
   ]
  },
  {
   "cell_type": "code",
   "execution_count": 39,
   "id": "41eeae63-4650-4074-9e90-206cd3f909a1",
   "metadata": {},
   "outputs": [
    {
     "data": {
      "text/plain": [
       "140731127477480"
      ]
     },
     "execution_count": 39,
     "metadata": {},
     "output_type": "execute_result"
    }
   ],
   "source": [
    "a = a + 6\n",
    "id(a)"
   ]
  },
  {
   "cell_type": "code",
   "execution_count": 40,
   "id": "51e980ba-0f0d-4162-a753-0800551e48b1",
   "metadata": {},
   "outputs": [
    {
     "data": {
      "text/plain": [
       "2326708548032"
      ]
     },
     "execution_count": 40,
     "metadata": {},
     "output_type": "execute_result"
    }
   ],
   "source": [
    "a = [1,2,3]\n",
    "id(a)"
   ]
  },
  {
   "cell_type": "code",
   "execution_count": 41,
   "id": "7d98c581-f101-4549-b689-8522128ccad6",
   "metadata": {},
   "outputs": [
    {
     "data": {
      "text/plain": [
       "2326708309248"
      ]
     },
     "execution_count": 41,
     "metadata": {},
     "output_type": "execute_result"
    }
   ],
   "source": [
    "a = a + [5,6]\n",
    "id(a)"
   ]
  },
  {
   "cell_type": "code",
   "execution_count": 42,
   "id": "cbfa3177-e319-41e0-8027-60d3c39177b3",
   "metadata": {},
   "outputs": [
    {
     "data": {
      "text/plain": [
       "2326699616384"
      ]
     },
     "execution_count": 42,
     "metadata": {},
     "output_type": "execute_result"
    }
   ],
   "source": [
    "a = [12,13]\n",
    "id(a)"
   ]
  },
  {
   "cell_type": "code",
   "execution_count": 43,
   "id": "effd7ed4-85e8-4027-bbab-d6c4c9782db9",
   "metadata": {},
   "outputs": [
    {
     "data": {
      "text/plain": [
       "2326699616384"
      ]
     },
     "execution_count": 43,
     "metadata": {},
     "output_type": "execute_result"
    }
   ],
   "source": [
    "a.append(14)\n",
    "id(a)"
   ]
  },
  {
   "cell_type": "markdown",
   "id": "c5e43fe5-e081-43b2-85cd-1104ca5e7f8d",
   "metadata": {},
   "source": [
    "Clonning\n"
   ]
  },
  {
   "cell_type": "code",
   "execution_count": 45,
   "id": "83caa275-d7b8-477d-a13a-5f37cc533d4a",
   "metadata": {},
   "outputs": [
    {
     "data": {
      "text/plain": [
       "2326708278528"
      ]
     },
     "execution_count": 45,
     "metadata": {},
     "output_type": "execute_result"
    }
   ],
   "source": [
    "l = [1,2,3,4]\n",
    "id(l)"
   ]
  },
  {
   "cell_type": "code",
   "execution_count": 46,
   "id": "44170629-88b4-4592-bda0-78cd76328f00",
   "metadata": {},
   "outputs": [
    {
     "data": {
      "text/plain": [
       "2326708278528"
      ]
     },
     "execution_count": 46,
     "metadata": {},
     "output_type": "execute_result"
    }
   ],
   "source": [
    "l1 = l\n",
    "id(l1)"
   ]
  },
  {
   "cell_type": "code",
   "execution_count": 48,
   "id": "da65e07e-27ee-49b0-bbf3-d8f77096c08f",
   "metadata": {},
   "outputs": [
    {
     "data": {
      "text/plain": [
       "[1, 2, 3, 4, 9]"
      ]
     },
     "execution_count": 48,
     "metadata": {},
     "output_type": "execute_result"
    }
   ],
   "source": [
    "l1.append(9)\n",
    "l1"
   ]
  },
  {
   "cell_type": "code",
   "execution_count": 49,
   "id": "09ddeac5-c0c1-43e6-a73d-b3a96a9f30c5",
   "metadata": {},
   "outputs": [
    {
     "data": {
      "text/plain": [
       "[1, 2, 3, 4, 9]"
      ]
     },
     "execution_count": 49,
     "metadata": {},
     "output_type": "execute_result"
    }
   ],
   "source": [
    "l"
   ]
  },
  {
   "cell_type": "code",
   "execution_count": 50,
   "id": "9f08653f-ec93-420b-beef-4ee95219213c",
   "metadata": {},
   "outputs": [
    {
     "data": {
      "text/plain": [
       "2326708731136"
      ]
     },
     "execution_count": 50,
     "metadata": {},
     "output_type": "execute_result"
    }
   ],
   "source": [
    "l = [1,2,3,4]\n",
    "id(l)"
   ]
  },
  {
   "cell_type": "code",
   "execution_count": 51,
   "id": "7fdf2f65-41c7-4828-83b3-2801874c6c8c",
   "metadata": {},
   "outputs": [
    {
     "data": {
      "text/plain": [
       "2326708750592"
      ]
     },
     "execution_count": 51,
     "metadata": {},
     "output_type": "execute_result"
    }
   ],
   "source": [
    "l1 = l[:]\n",
    "id(l1)"
   ]
  },
  {
   "cell_type": "code",
   "execution_count": null,
   "id": "2430dd18-c389-43af-aa7e-e290233abc5f",
   "metadata": {},
   "outputs": [],
   "source": []
  }
 ],
 "metadata": {
  "kernelspec": {
   "display_name": "Python 3 (ipykernel)",
   "language": "python",
   "name": "python3"
  },
  "language_info": {
   "codemirror_mode": {
    "name": "ipython",
    "version": 3
   },
   "file_extension": ".py",
   "mimetype": "text/x-python",
   "name": "python",
   "nbconvert_exporter": "python",
   "pygments_lexer": "ipython3",
   "version": "3.13.5"
  }
 },
 "nbformat": 4,
 "nbformat_minor": 5
}
