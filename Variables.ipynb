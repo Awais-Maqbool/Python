{
 "cells": [
  {
   "cell_type": "code",
   "execution_count": 1,
   "id": "38c1ce50-2672-4688-968c-57a5c7cb6a63",
   "metadata": {},
   "outputs": [
    {
     "name": "stdout",
     "output_type": "stream",
     "text": [
      "awais\n"
     ]
    }
   ],
   "source": [
    "name  = \"awais\"\n",
    "print(name)"
   ]
  },
  {
   "cell_type": "code",
   "execution_count": 3,
   "id": "16844799-5195-411a-8ce6-51ba6e55a200",
   "metadata": {},
   "outputs": [
    {
     "name": "stdout",
     "output_type": "stream",
     "text": [
      "8\n"
     ]
    }
   ],
   "source": [
    "name = 8\n",
    "print(name)"
   ]
  },
  {
   "cell_type": "code",
   "execution_count": 4,
   "id": "2fa8a2b0-ab93-48f9-8abb-ec420e0f48fc",
   "metadata": {},
   "outputs": [
    {
     "name": "stdout",
     "output_type": "stream",
     "text": [
      "6 7\n"
     ]
    }
   ],
   "source": [
    "a=6;b=7\n",
    "print(a,b)"
   ]
  },
  {
   "cell_type": "code",
   "execution_count": 5,
   "id": "2e0425cd-36c9-4249-833e-425dba6da28e",
   "metadata": {},
   "outputs": [
    {
     "name": "stdout",
     "output_type": "stream",
     "text": [
      "2 3 4\n"
     ]
    }
   ],
   "source": [
    "a,b,c = 2,3,4\n",
    "print(a,b,c)"
   ]
  },
  {
   "cell_type": "code",
   "execution_count": 17,
   "id": "8f522491-14de-4b19-9da5-ef7b24978261",
   "metadata": {},
   "outputs": [
    {
     "name": "stdout",
     "output_type": "stream",
     "text": [
      "19\n",
      ",\n",
      "9\n",
      "[',', ',', ',', ',', ',', ',', ',', ',', ',', '1', '2', '3', '3', '4', '5', '5', '6', '7', '9']\n"
     ]
    }
   ],
   "source": [
    "c = \"1,2,3,5,4,6,3,5,9,7\"\n",
    "\n",
    "print(len(c))\n",
    "print(min(c))\n",
    "print(max(c))\n",
    "print(sorted(c))"
   ]
  },
  {
   "cell_type": "code",
   "execution_count": null,
   "id": "afeb394e-2d7e-4cb7-bbe1-b737532610d6",
   "metadata": {},
   "outputs": [],
   "source": []
  }
 ],
 "metadata": {
  "kernelspec": {
   "display_name": "Python 3 (ipykernel)",
   "language": "python",
   "name": "python3"
  },
  "language_info": {
   "codemirror_mode": {
    "name": "ipython",
    "version": 3
   },
   "file_extension": ".py",
   "mimetype": "text/x-python",
   "name": "python",
   "nbconvert_exporter": "python",
   "pygments_lexer": "ipython3",
   "version": "3.13.5"
  }
 },
 "nbformat": 4,
 "nbformat_minor": 5
}
