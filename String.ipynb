{
 "cells": [
  {
   "cell_type": "code",
   "execution_count": 1,
   "id": "024664b6-5fd3-4d8a-b7d1-c4efcd0ac20e",
   "metadata": {},
   "outputs": [
    {
     "name": "stdout",
     "output_type": "stream",
     "text": [
      "hello\n"
     ]
    }
   ],
   "source": [
    "a = 'hello'\n",
    "print(a)"
   ]
  },
  {
   "cell_type": "code",
   "execution_count": 5,
   "id": "760f2f3b-06e7-42dd-bdec-9ca2d4ec3b46",
   "metadata": {},
   "outputs": [
    {
     "name": "stdout",
     "output_type": "stream",
     "text": [
      "hello\n"
     ]
    }
   ],
   "source": [
    "a = 'hello'\n",
    "'my name is'\n",
    "print(a)"
   ]
  },
  {
   "cell_type": "code",
   "execution_count": 6,
   "id": "133f1eb3-cdf2-4637-b64b-8bc6082d2fd9",
   "metadata": {},
   "outputs": [
    {
     "name": "stdout",
     "output_type": "stream",
     "text": [
      "hello \n",
      "my name is\n"
     ]
    }
   ],
   "source": [
    "a = \"\"\"hello \n",
    "my name is\"\"\"\n",
    "print(a)"
   ]
  },
  {
   "cell_type": "code",
   "execution_count": 16,
   "id": "dd55a6f8-2709-49fa-80fb-cf43cd9c8515",
   "metadata": {},
   "outputs": [
    {
     "name": "stdout",
     "output_type": "stream",
     "text": [
      "1\n",
      "HELLO\n",
      "o\n",
      "l\n",
      "h\n",
      "e\n",
      "l\n",
      "l\n",
      "o\n",
      "h\n",
      "e\n",
      "l\n",
      "l\n",
      "o\n",
      "hell\n",
      "hello\n",
      "hlo\n"
     ]
    }
   ],
   "source": [
    "c = 'hello'\n",
    "print(c.index('e'))\n",
    "print(c.upper())\n",
    "\n",
    "\n",
    "print(c[len(c)-1])\n",
    "print(c[-2])\n",
    "for i in c:\n",
    "    print(i)\n",
    "i=0\n",
    "while(i<len(c)):\n",
    "    print(c[i])\n",
    "    i=i+1\n",
    "print(c[:4])\n",
    "print(c[:])\n",
    "print(c[0:5:2])"
   ]
  },
  {
   "cell_type": "code",
   "execution_count": 27,
   "id": "097efa7c-25a4-4435-8eeb-4e04b5f00edf",
   "metadata": {},
   "outputs": [
    {
     "name": "stdout",
     "output_type": "stream",
     "text": [
      "hello world\n",
      "hlowr\n",
      "\n",
      "ello wo\n",
      "dlrow olleh\n",
      "worl\n"
     ]
    }
   ],
   "source": [
    "c = \"hello world\"\n",
    "print(c[:])\n",
    "print(c[:9:2])\n",
    "print(c[0:9:-1])\n",
    "print(c[1:-3])\n",
    "print(c[::-1])\n",
    "print(c[-5:-1])"
   ]
  },
  {
   "cell_type": "markdown",
   "id": "5bbf5c3b-ca6e-43a9-b24a-7ea948333f36",
   "metadata": {},
   "source": [
    "editing and deleting"
   ]
  },
  {
   "cell_type": "code",
   "execution_count": 32,
   "id": "5f3cf1f2-6bfd-40e9-bf20-b54310976147",
   "metadata": {},
   "outputs": [],
   "source": [
    "c = \"hello world\"\n",
    "# c[0]=\"x\"\n",
    "del c\n",
    "print(c)"
   ]
  },
  {
   "cell_type": "markdown",
   "id": "c1d7df4a-b50d-465c-9d02-e63f4d03228e",
   "metadata": {},
   "source": [
    "String operations\n"
   ]
  },
  {
   "cell_type": "code",
   "execution_count": 33,
   "id": "31da0c42-b706-4526-a715-8bc0ce5d8aa4",
   "metadata": {},
   "outputs": [
    {
     "data": {
      "text/plain": [
       "'hello-world'"
      ]
     },
     "execution_count": 33,
     "metadata": {},
     "output_type": "execute_result"
    }
   ],
   "source": [
    "\"hello\" + \"-\" + \"world\""
   ]
  },
  {
   "cell_type": "code",
   "execution_count": 34,
   "id": "aff15dd8-6401-42f0-9fbe-5bc33aa007bb",
   "metadata": {},
   "outputs": [
    {
     "name": "stdout",
     "output_type": "stream",
     "text": [
      "*****\n"
     ]
    }
   ],
   "source": [
    "print(\"*\"*5)"
   ]
  },
  {
   "cell_type": "code",
   "execution_count": 35,
   "id": "90fac4ba-3258-4e1f-bdfe-cf1f3bfda93c",
   "metadata": {},
   "outputs": [
    {
     "ename": "TypeError",
     "evalue": "can't multiply sequence by non-int of type 'str'",
     "output_type": "error",
     "traceback": [
      "\u001b[1;31m---------------------------------------------------------------------------\u001b[0m",
      "\u001b[1;31mTypeError\u001b[0m                                 Traceback (most recent call last)",
      "Cell \u001b[1;32mIn[35], line 1\u001b[0m\n\u001b[1;32m----> 1\u001b[0m \u001b[38;5;124m\"\u001b[39m\u001b[38;5;124mhello\u001b[39m\u001b[38;5;124m\"\u001b[39m \u001b[38;5;241m*\u001b[39m \u001b[38;5;124m\"\u001b[39m\u001b[38;5;124mworld\u001b[39m\u001b[38;5;124m\"\u001b[39m\n",
      "\u001b[1;31mTypeError\u001b[0m: can't multiply sequence by non-int of type 'str'"
     ]
    }
   ],
   "source": [
    "\"hello\" * \"world\""
   ]
  },
  {
   "cell_type": "code",
   "execution_count": 36,
   "id": "75840532-74af-4dc0-b5a4-5d139daec165",
   "metadata": {},
   "outputs": [
    {
     "data": {
      "text/plain": [
       "False"
      ]
     },
     "execution_count": 36,
     "metadata": {},
     "output_type": "execute_result"
    }
   ],
   "source": [
    "\"hello\" == \"world\""
   ]
  },
  {
   "cell_type": "code",
   "execution_count": 38,
   "id": "f1ec832d-2c68-49fc-9e07-818f79ba6c4b",
   "metadata": {},
   "outputs": [
    {
     "data": {
      "text/plain": [
       "True"
      ]
     },
     "execution_count": 38,
     "metadata": {},
     "output_type": "execute_result"
    }
   ],
   "source": [
    "\"hello\" == \"hello\""
   ]
  },
  {
   "cell_type": "code",
   "execution_count": 40,
   "id": "94cb46b4-6061-451b-a523-b8255d7f9e9a",
   "metadata": {},
   "outputs": [
    {
     "data": {
      "text/plain": [
       "True"
      ]
     },
     "execution_count": 40,
     "metadata": {},
     "output_type": "execute_result"
    }
   ],
   "source": [
    "\"hello\" == \"hello\""
   ]
  },
  {
   "cell_type": "code",
   "execution_count": 41,
   "id": "602971f6-ae6c-4b3f-94be-91e8a9592482",
   "metadata": {},
   "outputs": [
    {
     "data": {
      "text/plain": [
       "True"
      ]
     },
     "execution_count": 41,
     "metadata": {},
     "output_type": "execute_result"
    }
   ],
   "source": [
    "\"lahore\" > \"islamabad\""
   ]
  },
  {
   "cell_type": "code",
   "execution_count": 45,
   "id": "ed444545-a7b6-4271-96ba-a45e48011995",
   "metadata": {},
   "outputs": [
    {
     "data": {
      "text/plain": [
       "'hello'"
      ]
     },
     "execution_count": 45,
     "metadata": {},
     "output_type": "execute_result"
    }
   ],
   "source": [
    "# \"\" --> false\n",
    "# \"kuch bhi\" --> true\n",
    "\"world\" and \"hello\""
   ]
  },
  {
   "cell_type": "code",
   "execution_count": 49,
   "id": "50b9ed21-5bbe-4bd7-b6fd-fdee02f82bf7",
   "metadata": {},
   "outputs": [
    {
     "data": {
      "text/plain": [
       "'hello'"
      ]
     },
     "execution_count": 49,
     "metadata": {},
     "output_type": "execute_result"
    }
   ],
   "source": [
    "\"hello\" or \"world\""
   ]
  },
  {
   "cell_type": "code",
   "execution_count": 50,
   "id": "b5fe82bf-944e-4d48-a8db-a61b5403f62d",
   "metadata": {},
   "outputs": [
    {
     "ename": "SyntaxError",
     "evalue": "invalid syntax (1534074997.py, line 1)",
     "output_type": "error",
     "traceback": [
      "\u001b[1;36m  Cell \u001b[1;32mIn[50], line 1\u001b[1;36m\u001b[0m\n\u001b[1;33m    \"hello\" not \"world\"\u001b[0m\n\u001b[1;37m                ^\u001b[0m\n\u001b[1;31mSyntaxError\u001b[0m\u001b[1;31m:\u001b[0m invalid syntax\n"
     ]
    }
   ],
   "source": [
    "\"hello\" not \"world\""
   ]
  },
  {
   "cell_type": "code",
   "execution_count": 53,
   "id": "66f32aa7-5cd9-4822-a513-cb22debbf56a",
   "metadata": {},
   "outputs": [
    {
     "name": "stdout",
     "output_type": "stream",
     "text": [
      "h\n",
      "l\n",
      "o\n",
      "w\n",
      "r\n",
      "d\n"
     ]
    }
   ],
   "source": [
    "c = \"hello world\"\n",
    "for i in c[0:len(c):2]:\n",
    "    print(i)"
   ]
  },
  {
   "cell_type": "code",
   "execution_count": 54,
   "id": "66463889-f84b-4fc7-aa22-f8435e877099",
   "metadata": {},
   "outputs": [
    {
     "data": {
      "text/plain": [
       "True"
      ]
     },
     "execution_count": 54,
     "metadata": {},
     "output_type": "execute_result"
    }
   ],
   "source": [
    "\"h\" in c"
   ]
  },
  {
   "cell_type": "code",
   "execution_count": 55,
   "id": "13350471-aa69-4ebb-9e33-84c0f485ac0b",
   "metadata": {},
   "outputs": [
    {
     "data": {
      "text/plain": [
       "False"
      ]
     },
     "execution_count": 55,
     "metadata": {},
     "output_type": "execute_result"
    }
   ],
   "source": [
    "\"H\" in c"
   ]
  },
  {
   "cell_type": "code",
   "execution_count": 56,
   "id": "66d893f8-e729-4480-b167-1c770f38f263",
   "metadata": {},
   "outputs": [
    {
     "data": {
      "text/plain": [
       "True"
      ]
     },
     "execution_count": 56,
     "metadata": {},
     "output_type": "execute_result"
    }
   ],
   "source": [
    "\"world\" in c"
   ]
  },
  {
   "cell_type": "code",
   "execution_count": null,
   "id": "a0ff4531-b5b0-4bd6-811c-b04cad7f0f69",
   "metadata": {},
   "outputs": [],
   "source": []
  },
  {
   "cell_type": "markdown",
   "id": "c4c99df9-9ad8-4ee0-a4b9-92d80df1df17",
   "metadata": {},
   "source": [
    "String Functions\n"
   ]
  },
  {
   "cell_type": "code",
   "execution_count": 2,
   "id": "35c57353-3332-4c1c-8f17-7401b43703be",
   "metadata": {},
   "outputs": [
    {
     "name": "stdout",
     "output_type": "stream",
     "text": [
      "10\n",
      "1\n",
      "7\n",
      "['1', '2', '2', '3', '3', '4', '4', '5', '6', '7']\n"
     ]
    }
   ],
   "source": [
    "c = \"1224354367\"\n",
    "print(len(c))\n",
    "print(min(c))\n",
    "print(max(c))\n",
    "print(sorted(c))"
   ]
  },
  {
   "cell_type": "code",
   "execution_count": 27,
   "id": "4e325c4c-069d-460f-9b33-134cfad8f3f5",
   "metadata": {},
   "outputs": [
    {
     "name": "stdout",
     "output_type": "stream",
     "text": [
      "hello world\n",
      "HElLo wORlD\n",
      "-1\n",
      "7\n",
      "True\n",
      "False\n"
     ]
    }
   ],
   "source": [
    "c = \"heLlO WorLd\"\n",
    "print(c.capitalize().title().upper().lower())\n",
    "print(c.swapcase())\n",
    "print(c.find(\"w\"))\n",
    "print(c.index(\"o\"))\n",
    "print(c.startswith(\"h\"))\n",
    "print(c.endswith(\"s\"))"
   ]
  },
  {
   "cell_type": "code",
   "execution_count": 29,
   "id": "18e570da-180d-48fa-9e8f-039894811271",
   "metadata": {},
   "outputs": [
    {
     "data": {
      "text/plain": [
       "False"
      ]
     },
     "execution_count": 29,
     "metadata": {},
     "output_type": "execute_result"
    }
   ],
   "source": [
    "\"flat20\".isalnum()"
   ]
  },
  {
   "cell_type": "code",
   "execution_count": 30,
   "id": "b1dc2171-3984-4c8d-84b5-aba956aefa98",
   "metadata": {},
   "outputs": [
    {
     "data": {
      "text/plain": [
       "'my name is awais and age is 12'"
      ]
     },
     "execution_count": 30,
     "metadata": {},
     "output_type": "execute_result"
    }
   ],
   "source": [
    "\"my name is {} and age is {}\".format(\"awais\",12)"
   ]
  },
  {
   "cell_type": "code",
   "execution_count": 33,
   "id": "66dc7922-059c-4d32-85bc-8c55dadfc50c",
   "metadata": {},
   "outputs": [
    {
     "data": {
      "text/plain": [
       "'my name is awais and age is 12'"
      ]
     },
     "execution_count": 33,
     "metadata": {},
     "output_type": "execute_result"
    }
   ],
   "source": [
    "'my name is awais and age is 12'.strip()\n",
    "\n"
   ]
  },
  {
   "cell_type": "code",
   "execution_count": 34,
   "id": "0d62a966-dca4-49bd-b558-afd0df82d8a9",
   "metadata": {},
   "outputs": [
    {
     "data": {
      "text/plain": [
       "['my', 'name', 'is', 'awais', 'and', 'age', 'is', '12']"
      ]
     },
     "execution_count": 34,
     "metadata": {},
     "output_type": "execute_result"
    }
   ],
   "source": [
    "'my name is awais and age is 12'.split()\n"
   ]
  },
  {
   "cell_type": "code",
   "execution_count": 36,
   "id": "68685231-c31a-46c0-be82-e1355f8f56d7",
   "metadata": {},
   "outputs": [
    {
     "data": {
      "text/plain": [
       "'my name is awais and age is 12'"
      ]
     },
     "execution_count": 36,
     "metadata": {},
     "output_type": "execute_result"
    }
   ],
   "source": [
    "\" \".join(['my', 'name', 'is', 'awais', 'and', 'age', 'is', '12'])"
   ]
  },
  {
   "cell_type": "code",
   "execution_count": 37,
   "id": "0a984c85-15ff-497b-aee1-dc251c812039",
   "metadata": {},
   "outputs": [
    {
     "name": "stdout",
     "output_type": "stream",
     "text": [
      "awais\n"
     ]
    }
   ],
   "source": [
    "n = '   awais  '\n",
    "print(n.strip())"
   ]
  },
  {
   "cell_type": "code",
   "execution_count": null,
   "id": "a1ee5e02-7ec6-43cd-a3a8-09be844b45c1",
   "metadata": {},
   "outputs": [],
   "source": []
  }
 ],
 "metadata": {
  "kernelspec": {
   "display_name": "Python 3 (ipykernel)",
   "language": "python",
   "name": "python3"
  },
  "language_info": {
   "codemirror_mode": {
    "name": "ipython",
    "version": 3
   },
   "file_extension": ".py",
   "mimetype": "text/x-python",
   "name": "python",
   "nbconvert_exporter": "python",
   "pygments_lexer": "ipython3",
   "version": "3.13.5"
  }
 },
 "nbformat": 4,
 "nbformat_minor": 5
}
