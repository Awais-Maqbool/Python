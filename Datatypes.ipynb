{
 "cells": [
  {
   "cell_type": "code",
   "execution_count": 8,
   "id": "da0d30ec-1b04-46e7-a3c5-4248bef529e6",
   "metadata": {},
   "outputs": [
    {
     "name": "stdout",
     "output_type": "stream",
     "text": [
      "7\n",
      "1e+308\n",
      "inf\n"
     ]
    }
   ],
   "source": [
    "#Integer\n",
    "print(7)\n",
    "print(1e308)\n",
    "print(1e309)"
   ]
  },
  {
   "cell_type": "code",
   "execution_count": 11,
   "id": "da10a3fc-c27c-44d0-8c74-d3403a00d692",
   "metadata": {},
   "outputs": [
    {
     "name": "stdout",
     "output_type": "stream",
     "text": [
      "7.0\n",
      "1e+308\n",
      "inf\n"
     ]
    }
   ],
   "source": [
    "#Float\n",
    "print(7.)\n",
    "print(1e308)\n",
    "print(1e309)"
   ]
  },
  {
   "cell_type": "code",
   "execution_count": 13,
   "id": "3aaefdb7-1dbc-4571-8b6d-229fed1ea882",
   "metadata": {},
   "outputs": [
    {
     "name": "stdout",
     "output_type": "stream",
     "text": [
      "True\n"
     ]
    }
   ],
   "source": [
    "#Boolean\n",
    "print(True)"
   ]
  },
  {
   "cell_type": "code",
   "execution_count": 14,
   "id": "b382f75e-56bc-40a6-a5f8-ad07f1b2d998",
   "metadata": {},
   "outputs": [
    {
     "name": "stdout",
     "output_type": "stream",
     "text": [
      "(5+7j)\n"
     ]
    }
   ],
   "source": [
    "#complex\n",
    "print(5+7j)"
   ]
  },
  {
   "cell_type": "code",
   "execution_count": 15,
   "id": "2dbf385e-893e-4b9f-966f-1542dc082c57",
   "metadata": {},
   "outputs": [
    {
     "name": "stdout",
     "output_type": "stream",
     "text": [
      "awasi\n"
     ]
    }
   ],
   "source": [
    "#String\n",
    "print(\"awasi\")"
   ]
  },
  {
   "cell_type": "code",
   "execution_count": 16,
   "id": "b2949c86-f4af-4056-8da9-f755dbd960b9",
   "metadata": {},
   "outputs": [
    {
     "name": "stdout",
     "output_type": "stream",
     "text": [
      "[1, 2, 3, 4]\n"
     ]
    }
   ],
   "source": [
    "#list\n",
    "print([1,2,3,4])"
   ]
  },
  {
   "cell_type": "code",
   "execution_count": 19,
   "id": "7437aff6-fcbf-4932-9116-8f51f36e019e",
   "metadata": {},
   "outputs": [
    {
     "name": "stdout",
     "output_type": "stream",
     "text": [
      "(1, 2, 3, 4)\n"
     ]
    }
   ],
   "source": [
    "#tupke\n",
    "print((1,2,3,4))"
   ]
  },
  {
   "cell_type": "code",
   "execution_count": 20,
   "id": "47cbda2f-24f4-4777-8b51-e1796a23b700",
   "metadata": {},
   "outputs": [
    {
     "name": "stdout",
     "output_type": "stream",
     "text": [
      "{1, 2, 3, 4, 5, 6}\n"
     ]
    }
   ],
   "source": [
    "#sets\n",
    "print({1,2,3,4,5,6,6})"
   ]
  },
  {
   "cell_type": "code",
   "execution_count": 21,
   "id": "266edcf2-110e-444b-bdb9-f7bdbc0bcba2",
   "metadata": {},
   "outputs": [
    {
     "name": "stdout",
     "output_type": "stream",
     "text": [
      "{'name': 'awais', 'age': 12}\n"
     ]
    }
   ],
   "source": [
    "#dictionary\n",
    "print({\"name\":\"awais\",\"age\":12})"
   ]
  },
  {
   "cell_type": "code",
   "execution_count": 22,
   "id": "fdf105c2-4449-438b-9033-49f0f90e9719",
   "metadata": {},
   "outputs": [],
   "source": [
    "#awais maqbool"
   ]
  },
  {
   "cell_type": "code",
   "execution_count": 24,
   "id": "9fa065cc-2780-422f-bef1-a635000c232e",
   "metadata": {},
   "outputs": [],
   "source": [
    "#awais"
   ]
  },
  {
   "cell_type": "code",
   "execution_count": 25,
   "id": "f4bcdce2-1465-497e-b22e-7534d0b85923",
   "metadata": {},
   "outputs": [],
   "source": [
    "#awais\n",
    "#maqbool\n"
   ]
  },
  {
   "cell_type": "code",
   "execution_count": 26,
   "id": "ffdd14d6-8078-4916-aa5e-f4724ec36bbd",
   "metadata": {},
   "outputs": [],
   "source": [
    "# awais\n",
    "# maqbool\n",
    "# hussain"
   ]
  },
  {
   "cell_type": "code",
   "execution_count": null,
   "id": "06f3327e-eb65-4938-b16d-d274351676dc",
   "metadata": {},
   "outputs": [],
   "source": []
  }
 ],
 "metadata": {
  "kernelspec": {
   "display_name": "Python 3 (ipykernel)",
   "language": "python",
   "name": "python3"
  },
  "language_info": {
   "codemirror_mode": {
    "name": "ipython",
    "version": 3
   },
   "file_extension": ".py",
   "mimetype": "text/x-python",
   "name": "python",
   "nbconvert_exporter": "python",
   "pygments_lexer": "ipython3",
   "version": "3.13.5"
  }
 },
 "nbformat": 4,
 "nbformat_minor": 5
}
