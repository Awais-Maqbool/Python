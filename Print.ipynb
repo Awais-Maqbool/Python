{
 "cells": [
  {
   "cell_type": "code",
   "execution_count": 1,
   "id": "cc19a888-c36f-4245-88d2-6e9896ec9902",
   "metadata": {},
   "outputs": [
    {
     "name": "stdout",
     "output_type": "stream",
     "text": [
      "hlo world\n"
     ]
    }
   ],
   "source": [
    "print(\"hlo world\")\n"
   ]
  },
  {
   "cell_type": "code",
   "execution_count": 3,
   "id": "085330a5-409a-42f7-9350-d7bcefb12fc4",
   "metadata": {},
   "outputs": [
    {
     "name": "stdout",
     "output_type": "stream",
     "text": [
      "pakistan india china\n"
     ]
    }
   ],
   "source": [
    "print(\"pakistan\",\"india\",\"china\")\n"
   ]
  },
  {
   "cell_type": "code",
   "execution_count": 4,
   "id": "de90a043-1919-49fb-a070-91856125e31e",
   "metadata": {},
   "outputs": [
    {
     "name": "stdout",
     "output_type": "stream",
     "text": [
      "pakistan 6 8.9\n"
     ]
    }
   ],
   "source": [
    "print(\"pakistan\",6,8.9)\n"
   ]
  },
  {
   "cell_type": "code",
   "execution_count": 5,
   "id": "809a2add-c64b-40ce-8894-8953319dd7d9",
   "metadata": {},
   "outputs": [
    {
     "name": "stdout",
     "output_type": "stream",
     "text": [
      "pakistan/india/china\n"
     ]
    }
   ],
   "source": [
    "print(\"pakistan\",\"india\",\"china\",sep=\"/\")"
   ]
  },
  {
   "cell_type": "code",
   "execution_count": null,
   "id": "01eb9208-50ae-4d68-ac7b-5b2bcfa841b3",
   "metadata": {},
   "outputs": [],
   "source": []
  }
 ],
 "metadata": {
  "kernelspec": {
   "display_name": "Python 3 (ipykernel)",
   "language": "python",
   "name": "python3"
  },
  "language_info": {
   "codemirror_mode": {
    "name": "ipython",
    "version": 3
   },
   "file_extension": ".py",
   "mimetype": "text/x-python",
   "name": "python",
   "nbconvert_exporter": "python",
   "pygments_lexer": "ipython3",
   "version": "3.13.5"
  }
 },
 "nbformat": 4,
 "nbformat_minor": 5
}
