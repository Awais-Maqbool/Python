{
 "cells": [
  {
   "cell_type": "code",
   "execution_count": 4,
   "id": "3857ff50-034a-40f3-a56c-f2161b9b35a9",
   "metadata": {},
   "outputs": [
    {
     "data": {
      "text/plain": [
       "9"
      ]
     },
     "execution_count": 4,
     "metadata": {},
     "output_type": "execute_result"
    }
   ],
   "source": [
    "x = lambda x:x**2\n",
    "x(3)"
   ]
  },
  {
   "cell_type": "code",
   "execution_count": 6,
   "id": "4fd598db-7a88-424b-867f-f84b01186bf4",
   "metadata": {},
   "outputs": [
    {
     "data": {
      "text/plain": [
       "7"
      ]
     },
     "execution_count": 6,
     "metadata": {},
     "output_type": "execute_result"
    }
   ],
   "source": [
    "y = lambda x,y:x+y\n",
    "y(3,4)"
   ]
  },
  {
   "cell_type": "code",
   "execution_count": 13,
   "id": "f6950f23-1c8b-42c0-938a-4932bf2aef47",
   "metadata": {},
   "outputs": [
    {
     "data": {
      "text/plain": [
       "False"
      ]
     },
     "execution_count": 13,
     "metadata": {},
     "output_type": "execute_result"
    }
   ],
   "source": [
    "s = lambda x: \"f\" in x\n",
    "s(\"awais\")"
   ]
  },
  {
   "cell_type": "code",
   "execution_count": 17,
   "id": "811bb006-ab15-4713-a0fc-531c11636b0a",
   "metadata": {},
   "outputs": [
    {
     "data": {
      "text/plain": [
       "'even'"
      ]
     },
     "execution_count": 17,
     "metadata": {},
     "output_type": "execute_result"
    }
   ],
   "source": [
    "e = lambda x : \"even\" if x%2==0 else \"odd\"\n",
    "e(8)"
   ]
  },
  {
   "cell_type": "code",
   "execution_count": 20,
   "id": "9bd16c35-1f9e-4090-92dd-33f6d4a5d5a4",
   "metadata": {},
   "outputs": [
    {
     "ename": "SyntaxError",
     "evalue": "invalid syntax (3028960585.py, line 1)",
     "output_type": "error",
     "traceback": [
      "\u001b[1;36m  Cell \u001b[1;32mIn[20], line 1\u001b[1;36m\u001b[0m\n\u001b[1;33m    l = lambda x : for i in x()\u001b[0m\n\u001b[1;37m                   ^\u001b[0m\n\u001b[1;31mSyntaxError\u001b[0m\u001b[1;31m:\u001b[0m invalid syntax\n"
     ]
    }
   ],
   "source": [
    "l = lambda x : for i in x()\n",
    "l(5)"
   ]
  },
  {
   "cell_type": "code",
   "execution_count": 33,
   "id": "6492f6f4-451a-4369-b730-fd3e0f304af3",
   "metadata": {},
   "outputs": [
    {
     "name": "stdout",
     "output_type": "stream",
     "text": [
      "[7, 6, 6, 5, 5, 4, 3, 2]\n"
     ]
    }
   ],
   "source": [
    "l = [4,3,5,6,2,7,5,6]\n",
    "l.sort(reverse = True)\n",
    "print(l)"
   ]
  },
  {
   "cell_type": "code",
   "execution_count": 44,
   "id": "8e53837c-32df-4b9a-9e54-2b9d76f04b98",
   "metadata": {},
   "outputs": [
    {
     "name": "stdout",
     "output_type": "stream",
     "text": [
      "(24, 35, 30)\n"
     ]
    }
   ],
   "source": [
    "l = [2,4,6,3,5,7,9,12,11]\n",
    "def fun(l):\n",
    "    evensum = 0\n",
    "    oddsum = 0\n",
    "    sum3 = 0\n",
    "\n",
    "    for i in l:\n",
    "        if i%2==0:\n",
    "            evensum +=i\n",
    "    for i in l:\n",
    "        if i%2!=0:\n",
    "            oddsum += i\n",
    "    for i in l:\n",
    "        if i%3==0:\n",
    "            sum3 = sum3 + i\n",
    "\n",
    "    return(evensum,oddsum,sum3)\n",
    "print(fun(l))"
   ]
  },
  {
   "cell_type": "code",
   "execution_count": 48,
   "id": "5cb7afc7-6ccd-4b2e-994d-ad321227c6bd",
   "metadata": {},
   "outputs": [
    {
     "name": "stdout",
     "output_type": "stream",
     "text": [
      "evensum 24\n",
      "oddsum 35\n",
      "sum3 30\n"
     ]
    }
   ],
   "source": [
    "def hof(func,l):\n",
    "\n",
    "    result = 0\n",
    "    for i in l:\n",
    "        if func(i):\n",
    "            result = result + i\n",
    "    return (result)\n",
    "\n",
    "\n",
    "\n",
    "\n",
    "l = [2,4,6,3,5,7,9,12,11]\n",
    "x = lambda x:x%2==0\n",
    "y = lambda x:x%2!=0\n",
    "z = lambda x:x%3==0\n",
    "\n",
    "print(\"evensum\" , hof(x,l))\n",
    "print(\"oddsum\" , hof(y,l))\n",
    "print(\"sum3\" , hof(z,l))"
   ]
  },
  {
   "cell_type": "code",
   "execution_count": 49,
   "id": "99a38deb-1825-4124-95e5-abd3251370c3",
   "metadata": {},
   "outputs": [
    {
     "data": {
      "text/plain": [
       "[2, 4, 6, 8, 10]"
      ]
     },
     "execution_count": 49,
     "metadata": {},
     "output_type": "execute_result"
    }
   ],
   "source": [
    "l = [1,2,3,4,5]\n",
    "list(map(lambda x:x*2,l))"
   ]
  },
  {
   "cell_type": "code",
   "execution_count": 59,
   "id": "e03624a9-a03a-4f14-9f7a-aedb8cb030ff",
   "metadata": {},
   "outputs": [
    {
     "data": {
      "text/plain": [
       "[2, 4, 6, 8, 10]"
      ]
     },
     "execution_count": 59,
     "metadata": {},
     "output_type": "execute_result"
    }
   ],
   "source": [
    "l = [1,2,3,4,5]\n",
    "def dbl(i):\n",
    "        return i*2\n",
    "list(map(dbl,l))\n"
   ]
  },
  {
   "cell_type": "code",
   "execution_count": 60,
   "id": "bfe8cddf-c1a7-45c3-a2e6-1d06a9d86735",
   "metadata": {},
   "outputs": [
    {
     "data": {
      "text/plain": [
       "[False, True, False, True, False]"
      ]
     },
     "execution_count": 60,
     "metadata": {},
     "output_type": "execute_result"
    }
   ],
   "source": [
    "list(map(lambda x:x%2==0,l))"
   ]
  },
  {
   "cell_type": "code",
   "execution_count": 68,
   "id": "e3c749bc-ca70-4b39-9815-af82bcbfb2ac",
   "metadata": {},
   "outputs": [
    {
     "data": {
      "text/plain": [
       "['awais', 'bilal', 'zain']"
      ]
     },
     "execution_count": 68,
     "metadata": {},
     "output_type": "execute_result"
    }
   ],
   "source": [
    "students = [\n",
    "    {\n",
    "        \"name\":\"awais\",\n",
    "        \"class\":10,\n",
    "    },\n",
    "    {\n",
    "        \"name\":\"bilal\",\n",
    "        \"class\":20,\n",
    "    },\n",
    "    {\n",
    "        \"name\":\"zain\",\n",
    "        \"class\":30,\n",
    "    },\n",
    "]\n",
    "def nik(students):\n",
    "    return students[\"name\"]\n",
    "list(map(nik,students))\n",
    "\n"
   ]
  },
  {
   "cell_type": "code",
   "execution_count": 70,
   "id": "0f9c6273-a187-4242-a756-f57dbaabd87d",
   "metadata": {},
   "outputs": [
    {
     "data": {
      "text/plain": [
       "[3, 4, 5]"
      ]
     },
     "execution_count": 70,
     "metadata": {},
     "output_type": "execute_result"
    }
   ],
   "source": [
    "l = [1,2,3,4,5]\n",
    "list(filter(lambda x : x>2,l))\n"
   ]
  },
  {
   "cell_type": "code",
   "execution_count": 76,
   "id": "a7f4efe0-25c7-49d8-a011-bd4677e1295d",
   "metadata": {},
   "outputs": [
    {
     "data": {
      "text/plain": [
       "[2, 4, 6, 8, 10]"
      ]
     },
     "execution_count": 76,
     "metadata": {},
     "output_type": "execute_result"
    }
   ],
   "source": [
    "l = [1,2,3,4,5]\n",
    "\n",
    "list(map(lambda x : x*2,l))\n",
    "    "
   ]
  },
  {
   "cell_type": "code",
   "execution_count": 99,
   "id": "6f75087e-2868-4f7f-b8e2-24cadc080bdc",
   "metadata": {},
   "outputs": [
    {
     "data": {
      "text/plain": [
       "120"
      ]
     },
     "execution_count": 99,
     "metadata": {},
     "output_type": "execute_result"
    }
   ],
   "source": [
    "import functools \n",
    "l = [1,2,3,4,5]\n",
    "def fun(x,y):\n",
    "    return x*y\n",
    "    \n",
    "functools.reduce(fun,l)"
   ]
  },
  {
   "cell_type": "code",
   "execution_count": 170,
   "id": "6c5bff23-313d-4e49-af9e-f1294e56dd37",
   "metadata": {},
   "outputs": [
    {
     "data": {
      "text/plain": [
       "[2, 4, 6, 8, 10]"
      ]
     },
     "execution_count": 170,
     "metadata": {},
     "output_type": "execute_result"
    }
   ],
   "source": [
    "l = [1,2,3,4,5]\n",
    "list(map(lambda x:x*2,l))"
   ]
  },
  {
   "cell_type": "code",
   "execution_count": 174,
   "id": "3d48890a-3228-43d5-bbed-11f99641db4d",
   "metadata": {},
   "outputs": [
    {
     "ename": "SyntaxError",
     "evalue": "'return' outside function (787307536.py, line 6)",
     "output_type": "error",
     "traceback": [
      "\u001b[1;36m  Cell \u001b[1;32mIn[174], line 6\u001b[1;36m\u001b[0m\n\u001b[1;33m    return l2\u001b[0m\n\u001b[1;37m    ^\u001b[0m\n\u001b[1;31mSyntaxError\u001b[0m\u001b[1;31m:\u001b[0m 'return' outside function\n"
     ]
    }
   ],
   "source": [
    "l = [1,2,3,4,5]\n",
    "l2 = []\n",
    "for i in l:\n",
    "    z = i*2\n",
    "    l2.append(z)\n",
    "    "
   ]
  },
  {
   "cell_type": "code",
   "execution_count": 179,
   "id": "516dfb69-9da6-408f-8d69-9bd13e24075d",
   "metadata": {},
   "outputs": [
    {
     "data": {
      "text/plain": [
       "[2, 4, 6, 8]"
      ]
     },
     "execution_count": 179,
     "metadata": {},
     "output_type": "execute_result"
    }
   ],
   "source": [
    "l = [1,2,3,4]\n",
    "l = [i*2 for i  in l]\n",
    "l"
   ]
  },
  {
   "cell_type": "code",
   "execution_count": 181,
   "id": "5214eb44-40d7-4db8-a95d-97a154e05607",
   "metadata": {},
   "outputs": [
    {
     "data": {
      "text/plain": [
       "[2, 4, 6, 8, 10]"
      ]
     },
     "execution_count": 181,
     "metadata": {},
     "output_type": "execute_result"
    }
   ],
   "source": [
    "l = [1,2,3,4,5]\n",
    "l1 = [i*2 for i in l]\n",
    "l1"
   ]
  },
  {
   "cell_type": "code",
   "execution_count": 184,
   "id": "d26fbb11-57d8-4951-8e01-b8733840eb8a",
   "metadata": {},
   "outputs": [
    {
     "data": {
      "text/plain": [
       "[1, 9, 25, 49, 81]"
      ]
     },
     "execution_count": 184,
     "metadata": {},
     "output_type": "execute_result"
    }
   ],
   "source": [
    "l = [i**2 for i in range(11) if i%2!=0]\n",
    "l"
   ]
  },
  {
   "cell_type": "code",
   "execution_count": null,
   "id": "116f60d1-bfc3-451e-8bcd-b5349d0f7047",
   "metadata": {},
   "outputs": [],
   "source": []
  }
 ],
 "metadata": {
  "kernelspec": {
   "display_name": "Python 3 (ipykernel)",
   "language": "python",
   "name": "python3"
  },
  "language_info": {
   "codemirror_mode": {
    "name": "ipython",
    "version": 3
   },
   "file_extension": ".py",
   "mimetype": "text/x-python",
   "name": "python",
   "nbconvert_exporter": "python",
   "pygments_lexer": "ipython3",
   "version": "3.13.5"
  }
 },
 "nbformat": 4,
 "nbformat_minor": 5
}
