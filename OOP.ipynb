{
 "cells": [
  {
   "cell_type": "code",
   "execution_count": 1,
   "id": "c8f6d608-b4ee-4634-84ec-aae73945726d",
   "metadata": {},
   "outputs": [
    {
     "name": "stdout",
     "output_type": "stream",
     "text": [
      "<class 'list'>\n"
     ]
    }
   ],
   "source": [
    "l = [1,23,4]\n",
    "print(type(l))"
   ]
  },
  {
   "cell_type": "code",
   "execution_count": 5,
   "id": "28664df3-ac6a-4e8f-a36c-0d09a271c59d",
   "metadata": {},
   "outputs": [
    {
     "name": "stdout",
     "output_type": "stream",
     "text": [
      "<class 'str'>\n"
     ]
    }
   ],
   "source": [
    "b = \"aw\"\n",
    "print(type(b))"
   ]
  },
  {
   "cell_type": "code",
   "execution_count": 17,
   "id": "e9e0ebb1-457d-4791-8754-b82f4054a84e",
   "metadata": {},
   "outputs": [
    {
     "name": "stdout",
     "output_type": "stream",
     "text": [
      "0\n",
      "1\n",
      "2\n"
     ]
    },
    {
     "data": {
      "text/plain": [
       "5"
      ]
     },
     "execution_count": 17,
     "metadata": {},
     "output_type": "execute_result"
    }
   ],
   "source": [
    "class Atm:\n",
    "\n",
    "    __counter = 0\n",
    "    \n",
    "    def __init__(self):\n",
    "        self.__pin=\"\"\n",
    "        self.__balence=0\n",
    "\n",
    "        self.sno = Atm.__counter\n",
    "        Atm.__counter = Atm.__counter +1\n",
    "        \n",
    "\n",
    "        # self.menu()\n",
    "\n",
    "    def get_pin(self):\n",
    "            return self.__pin\n",
    "\n",
    "    def set_pin(self,new_pin):\n",
    "            if type(new_pin)==str:\n",
    "                self.__pin = new_pin\n",
    "                print(\"pin changed\")\n",
    "            else:\n",
    "                print(\"it must be string\")\n",
    "\n",
    "    def get_counter(self):\n",
    "        return Atm.__counter\n",
    "\n",
    "    def set_counter(self,new):\n",
    "        if type(new)==int:\n",
    "            Atm.__counter = new\n",
    "        else:\n",
    "            print(\"not valid\")\n",
    "            \n",
    "    def menu(self):\n",
    "        userinput = input(\"\"\"\n",
    "                        How would you like to proceed??\n",
    "                        1.enter 1 to set pin\n",
    "                        2.enter 2 to deposit\n",
    "                        3.enter 3 to widraw\n",
    "                        4.enter 4 to check balence\n",
    "                        5.enter 5 to exit\n",
    "\"\"\")\n",
    "\n",
    "        if userinput == \"1\":\n",
    "            self.createpin()\n",
    "        elif userinput == \"2\":\n",
    "            self.deposit()\n",
    "        elif userinput == \"3\":\n",
    "            self.withdraw()\n",
    "        elif userinput == \"4\":\n",
    "            self.checkbalence()\n",
    "        else:\n",
    "            print(\"nothing\")\n",
    "\n",
    "    def createpin(self):\n",
    "            self.__pin = input(\"enter the pin for set\")\n",
    "            print(\"pin set succesfully\")\n",
    "\n",
    "    def deposit(self):\n",
    "            temp = input(\"enter the pin for seposit\")\n",
    "            if temp == self.__pin:\n",
    "                amount = int(input(\"enter the amount for deposit\"))\n",
    "                self.__balence  =  self.__balence + amount\n",
    "                print(\"deposit succesfully\")\n",
    "            else:\n",
    "                print(\"invalid pin\")\n",
    "\n",
    "    def withdraw(self):\n",
    "            temp = input(\"enter the pin for withdraw\")\n",
    "            if temp == self.__pin:\n",
    "                amount = int(input(\"enter the amount for withdraw\"))\n",
    "                if amount < self.__balence:\n",
    "                    self.__balence  =  self.__balence - amount\n",
    "                    print(\"withdraw money\")\n",
    "                else:\n",
    "                    print(\"insufficent balence\")\n",
    "            else:\n",
    "                print(\"invalid password\")\n",
    "\n",
    "    def checkbalence(self):\n",
    "            temp = input(\"enter the pin to check balence\")\n",
    "            if temp == self.__pin:\n",
    "                print(self.__balence)\n",
    "            else:\n",
    "                print(\"invalid password\")\n",
    "\n",
    "# Atm.counter = \"awais\"\n",
    "awais = Atm()\n",
    "bilal = Atm()\n",
    "rehan = Atm()\n",
    "\n",
    "\n",
    "print(awais.sno)\n",
    "print(bilal.sno)\n",
    "print(rehan.sno)\n",
    "\n",
    "awais.get_counter()\n",
    "awais.set_counter(5)\n",
    "awais.get_counter()\n",
    "\n",
    "# print(awais.counter)\n",
    "# print(bilal.counter)\n",
    "# print(rehan.counter)\n",
    "# print(Atm.counter)\n",
    "# awais.set_pin(\"123456\")\n",
    "# awais._Atm__balence = 1000\n",
    "# awais.balence = 1000\n",
    "# awais.deposit()\n",
    "# awais.withdraw()\n",
    "# awais.checkbalence()\n",
    "\n",
    "\n",
    "\n",
    "\n",
    "\n"
   ]
  },
  {
   "cell_type": "code",
   "execution_count": 10,
   "id": "43de6237-85db-4560-98ec-84ed488b8b78",
   "metadata": {},
   "outputs": [
    {
     "name": "stdout",
     "output_type": "stream",
     "text": [
      "31/20\n",
      "4/5\n",
      "<class '__main__.Fraction'>\n"
     ]
    }
   ],
   "source": [
    "class Fraction:\n",
    "    def __init__(self,n,d):\n",
    "        self.neu = n\n",
    "        self.den = d\n",
    "\n",
    "    def __str__(self):\n",
    "        return \"{}/{}\".format(self.neu,self.den)\n",
    "\n",
    "    def __add__(self,other):\n",
    "        tempneu = self.neu * other.den + self.den * other.neu\n",
    "        tempden = self.den * other.den\n",
    "\n",
    "        return \"{}/{}\".format(tempneu,tempden)\n",
    "\n",
    "x = Fraction(4,5)\n",
    "y = Fraction(3,4)\n",
    "print(x+y)\n",
    "\n",
    "# print(x)\n",
    "# print(type(x))\n"
   ]
  },
  {
   "cell_type": "code",
   "execution_count": 10,
   "id": "c4a99c7c-f520-4b71-9da2-35767616bd9a",
   "metadata": {},
   "outputs": [
    {
     "data": {
      "text/plain": [
       "2470256064032"
      ]
     },
     "execution_count": 10,
     "metadata": {},
     "output_type": "execute_result"
    }
   ],
   "source": [
    "id(tayyab)"
   ]
  },
  {
   "cell_type": "code",
   "execution_count": 23,
   "id": "afdb531c-695f-42f0-a7bd-b6c77c72f61e",
   "metadata": {},
   "outputs": [],
   "source": [
    "class F:\n",
    "    def __init__(self,n):\n",
    "        self.neu = n\n",
    "        # self.den = d\n",
    "\n",
    "    # def __str__(self):\n",
    "    #     return \"{}/{}\".format(self.neu,self.den)\n",
    "\n",
    "    # def __add__(self,other):\n",
    "    #     tempneu = self.neu * other.den + other.neu * self.den \n",
    "    #     tempden = self.den * other.den\n",
    "    #     return \"{}/{}\".format(tempneu,tempden)\n",
    "        \n",
    "    # def __sub__(self,other):\n",
    "    #     tempneu = self.neu * other.den - other.neu * self.den \n",
    "    #     tempden = self.den * other.den\n",
    "    #     return \"{}/{}\".format(tempneu,tempden)\n",
    "        \n",
    "    # def __mul__(self,other):\n",
    "    #     tempneu = self.neu * other.neu\n",
    "    #     tempden = self.den * other.den\n",
    "    #     return \"{}/{}\".format(tempneu,tempden)\n",
    "        \n",
    "    # def __truediv__(self,other):\n",
    "    #     tempneu = self.neu * other.den\n",
    "    #     tempden = self.den * other.neu\n",
    "    #     return \"{}/{}\".format(tempneu,tempden)\n",
    "\n",
    "    # def __eq__(self,other):\n",
    "    #     return self.neu == other.neu\n",
    "\n",
    "    # def __ne__(self,other):\n",
    "    #     return self.neu != other.neu\n",
    "\n",
    "    # def __ge__(self,other):\n",
    "    #     return self.neu >= other.neu\n",
    "\n",
    "\n",
    "\n",
    "x = F(4)\n",
    "y = F(6)\n",
    "\n",
    "# print(x)\n",
    "# print(type(x))"
   ]
  },
  {
   "cell_type": "code",
   "execution_count": 30,
   "id": "ff83edba-0e04-48e4-b7cb-2d9fc4a88cf1",
   "metadata": {},
   "outputs": [
    {
     "name": "stdout",
     "output_type": "stream",
     "text": [
      "2662588977168\n",
      "2662588977168\n",
      "bilal\n",
      "2662588977168\n",
      "bilal\n"
     ]
    }
   ],
   "source": [
    "class Customer:\n",
    "    def __init__(self,name):\n",
    "        self.name = name\n",
    "\n",
    "# def greet(c):\n",
    "#     if c.gender == \"male\":\n",
    "#         print(\"hello\",c.name,\"sir\")\n",
    "#     else:\n",
    "#         print(\"hello\",c.name,\"mam\")\n",
    "        \n",
    "# c = Customer(\"awais\",\"female\")\n",
    "# greet(c)\n",
    "\n",
    "def greet(cust):\n",
    "    print(id(cust))\n",
    "    cust.name = \"bilal\"\n",
    "    print(c.name)\n",
    "    print(id(cust))\n",
    "\n",
    "c = Customer(\"awais\")\n",
    "print(id(c))\n",
    "\n",
    "greet(c)\n",
    "\n",
    "print(c.name)\n",
    "    "
   ]
  },
  {
   "cell_type": "markdown",
   "id": "2a8c4546-3461-44ab-8b31-d532f233e2e2",
   "metadata": {},
   "source": [
    "PASS BY REFERENCE"
   ]
  },
  {
   "cell_type": "code",
   "execution_count": 16,
   "id": "a4afc9b6-8300-4909-b9b3-d44ebb2eb7bb",
   "metadata": {},
   "outputs": [
    {
     "name": "stdout",
     "output_type": "stream",
     "text": [
      "2379624990784\n",
      "[1, 2, 3, 4, 5]\n",
      "2379624990784\n",
      "2379624990784\n",
      "[1, 2, 3, 4, 5, 5]\n"
     ]
    }
   ],
   "source": [
    "def change(l):\n",
    "    print(id(l))\n",
    "    l.append(5)\n",
    "    print(id(l))\n",
    "\n",
    "l1 = [1,2,3,4,5]\n",
    "print(id(l1))\n",
    "print(l1)\n",
    "\n",
    "change(l1)\n",
    "print(l1)\n",
    "\n",
    "\n",
    "# ?????????? it means that lists are mutable so original list change so we use cloning\n",
    "# change(l1[:])"
   ]
  },
  {
   "cell_type": "code",
   "execution_count": 38,
   "id": "89288cbc-4750-4dc5-8241-ba42acce72f3",
   "metadata": {},
   "outputs": [
    {
     "name": "stdout",
     "output_type": "stream",
     "text": [
      "2662605211344\n",
      "(1, 2, 3, 4, 5)\n",
      "2662605211344\n",
      "2662605390464\n",
      "(1, 2, 3, 4, 5)\n"
     ]
    }
   ],
   "source": [
    "def change(l):\n",
    "    print(id(l))\n",
    "    l = l + (5,6)\n",
    "    print(id(l))\n",
    "\n",
    "l1 = (1,2,3,4,5)\n",
    "print(id(l1))\n",
    "print(l1)\n",
    "\n",
    "change(l1)\n",
    "print(l1)\n"
   ]
  },
  {
   "cell_type": "markdown",
   "id": "39acb645-ce15-4b0b-ad03-b3496fab16cd",
   "metadata": {},
   "source": [
    "Colection of objects\n"
   ]
  },
  {
   "cell_type": "code",
   "execution_count": 43,
   "id": "6af27e38-02d1-4848-a479-b2269a7b13a3",
   "metadata": {},
   "outputs": [
    {
     "name": "stdout",
     "output_type": "stream",
     "text": [
      "awais 23\n",
      "i am awais and my age is 23\n",
      "bilal 30\n",
      "i am bilal and my age is 30\n",
      "talha 40\n",
      "i am talha and my age is 40\n"
     ]
    }
   ],
   "source": [
    "class Z:\n",
    "    def __init__(self,name,age):\n",
    "        self.name = name\n",
    "        self.age = age\n",
    "\n",
    "    def intro(self):\n",
    "        return f\"i am {self.name} and my age is {self.age}\"\n",
    "c1 = Z(\"awais\",23)\n",
    "c2 = Z(\"bilal\",30)\n",
    "c3 = Z(\"talha\",40)\n",
    "\n",
    "l = [c1,c2,c3]\n",
    "\n",
    "for i in l:\n",
    "    print(i.name,i.age)\n",
    "    print(i.intro())"
   ]
  },
  {
   "cell_type": "markdown",
   "id": "255c96d2-6abf-4793-926a-876df1a9b95f",
   "metadata": {},
   "source": [
    "AGGREGATION"
   ]
  },
  {
   "cell_type": "code",
   "execution_count": 25,
   "id": "89691cec-deaa-422a-9411-c5907f0c8bac",
   "metadata": {},
   "outputs": [
    {
     "name": "stdout",
     "output_type": "stream",
     "text": [
      "punjab\n"
     ]
    }
   ],
   "source": [
    "class Customer:\n",
    "    def __init__(self,name,gender,address):\n",
    "        self.name = name\n",
    "        self.gender = gender\n",
    "        self.address = address\n",
    "\n",
    "class Address:\n",
    "    def __init__(self,city,pincode,state):\n",
    "        self.city = city\n",
    "        self.pincode = pincode\n",
    "        self.state = state\n",
    "\n",
    "add = Address(\"lahore\",12345,\"punjab\")\n",
    "x = Customer(\"awais\",\"male\",add)\n",
    "print(x.address.state)"
   ]
  },
  {
   "cell_type": "markdown",
   "id": "5963b5bf-3e2c-404b-bbab-85cfe4d56e34",
   "metadata": {},
   "source": [
    "Inheritence"
   ]
  },
  {
   "cell_type": "code",
   "execution_count": 16,
   "id": "1f602c72-54c1-4583-b463-e009d5965005",
   "metadata": {},
   "outputs": [
    {
     "name": "stdout",
     "output_type": "stream",
     "text": [
      "self\n",
      "register\n",
      "enroll\n",
      "self\n",
      "register\n",
      "review\n"
     ]
    }
   ],
   "source": [
    "class User:\n",
    "\n",
    "    def login (self):\n",
    "        print(\"self\")\n",
    "        \n",
    "    def register (self):\n",
    "        print(\"register\")\n",
    "\n",
    "class Student(User):\n",
    "    \n",
    "    def enroll (self):\n",
    "        print(\"enroll\")\n",
    "        \n",
    "    def review (self):\n",
    "        print(\"review\")\n",
    "\n",
    "st1 = Student()\n",
    "user1 = User()\n",
    "user1.login()\n",
    "user1.register();st1.enroll()\n",
    "st1.login()\n",
    "st1.register()\n",
    "st1.review()"
   ]
  },
  {
   "cell_type": "code",
   "execution_count": 21,
   "id": "0736febf-d540-46a7-96c7-aec54d87ef32",
   "metadata": {},
   "outputs": [
    {
     "name": "stdout",
     "output_type": "stream",
     "text": [
      "awais \n",
      "maqbool\n"
     ]
    }
   ],
   "source": [
    "print(\"awais \\nmaqbool\")"
   ]
  },
  {
   "cell_type": "code",
   "execution_count": 42,
   "id": "b7d3478d-2652-4154-a812-84959b149670",
   "metadata": {},
   "outputs": [
    {
     "name": "stdout",
     "output_type": "stream",
     "text": [
      "inside the constructor\n",
      "vivo 128\n"
     ]
    }
   ],
   "source": [
    "class Phone:\n",
    "    def __init__(self,name,brand,memory):\n",
    "        print(\"inside the constructor\")\n",
    "        self.name = name\n",
    "        self.__brand = brand\n",
    "        self.memory = memory\n",
    "\n",
    "\n",
    "class Vivo(Phone):\n",
    "    pass\n",
    "\n",
    "v = Vivo(\"vivo\",\"vivo brand\",\"128\")\n",
    "print(v.name,v.memory)\n"
   ]
  },
  {
   "cell_type": "code",
   "execution_count": 49,
   "id": "274a8753-81ab-487b-8eb8-dcb3baef541a",
   "metadata": {},
   "outputs": [
    {
     "name": "stdout",
     "output_type": "stream",
     "text": [
      "inside the constructor\n",
      "buying a smartphone\n"
     ]
    }
   ],
   "source": [
    "class Phone:\n",
    "    def __init__(self,name,brand,memory):\n",
    "        print(\"inside the constructor\")\n",
    "        self.name = name\n",
    "        self.__brand = brand\n",
    "        self.memory = memory\n",
    "\n",
    "    def buy(self):\n",
    "        print(\"buying a phone\")\n",
    "\n",
    "class SmartPhone(Phone):\n",
    "    # def __init__(self,model):\n",
    "    #     print(\"model\")\n",
    "    def buy(self):\n",
    "        print(\"buying a smartphone\")\n",
    "\n",
    "v = SmartPhone(\"vivo\",\"vivo brand\",\"128\")\n",
    "# v = SmartPhone(\"vivo\")\n",
    "v.buy()\n",
    "\n",
    "\n",
    "# +++++++++++++++++++++++++++++++++++++++++++++++++++++++Method OverRiding ++++++++++++++++++++++++++++\n"
   ]
  },
  {
   "cell_type": "code",
   "execution_count": 54,
   "id": "207f32e4-49cb-4669-9398-070e572812e8",
   "metadata": {},
   "outputs": [
    {
     "name": "stdout",
     "output_type": "stream",
     "text": [
      "100\n",
      "showing\n"
     ]
    }
   ],
   "source": [
    "class Parent:\n",
    "    def __init__(self,num):\n",
    "        self.__num = num\n",
    "\n",
    "    def getnumb(self):\n",
    "        return self.__num\n",
    "\n",
    "class Child(Parent):\n",
    "    def show(self):\n",
    "        print(\"showing\")\n",
    "\n",
    "x = child(100)\n",
    "print(x.getnumb())\n",
    "x.show()"
   ]
  },
  {
   "cell_type": "code",
   "execution_count": 62,
   "id": "c8b5ad3d-401e-4694-8735-e2f1acadbdde",
   "metadata": {},
   "outputs": [
    {
     "name": "stdout",
     "output_type": "stream",
     "text": [
      "100\n"
     ]
    }
   ],
   "source": [
    "class Parent:\n",
    "    def __init__(self,num):\n",
    "        self.__num = num\n",
    "\n",
    "    def getnumb(self):\n",
    "        return self.__num\n",
    "\n",
    "class Child(Parent):\n",
    "\n",
    "    def __init__(self,val,num):\n",
    "        self.__val = val\n",
    "        \n",
    "    def getval(self):\n",
    "        return self.__val\n",
    "\n",
    "x = Child(100,10)\n",
    "print(x.getval())\n",
    "# print(x.getnum())"
   ]
  },
  {
   "cell_type": "markdown",
   "id": "7334868e-4f2b-455d-bcea-c7672874edc9",
   "metadata": {},
   "source": [
    "SUPER KEYWORD"
   ]
  },
  {
   "cell_type": "code",
   "execution_count": null,
   "id": "e899c0fe-14eb-4574-8d0d-c2e61a71a880",
   "metadata": {},
   "outputs": [],
   "source": [
    "class Phone:\n",
    "    def __init__(self,name,brand,memory):\n",
    "        print(\"inside the constructor\")\n",
    "        self.name = name\n",
    "        self.__brand = brand\n",
    "        self.memory = memory\n",
    "\n",
    "    def buy(self):\n",
    "        print(\"buying a phone\")\n",
    "\n",
    "class SmartPhone(Phone):\n",
    "    \n",
    "    def buy(self):\n",
    "        print(\"buying a smartphone\")\n",
    "        super().buy()\n",
    "\n",
    "v = SmartPhone(\"vivo\",\"vivo brand\",\"128\")\n",
    "# v = SmartPhone(\"vivo\")\n",
    "v.buy()\n",
    "\n",
    "\n",
    "# +++++++++++++++++++++++++++++++++++++++++++++++++++++++Method OverRiding ++++++++++++++++++++++++++++\n"
   ]
  },
  {
   "cell_type": "markdown",
   "id": "b7660a1f-f3c2-4111-accb-836a844e2224",
   "metadata": {},
   "source": [
    "class Phone:\n",
    "    def __init__(self,price,brand,camera):\n",
    "        self.price = price\n",
    "        self.brand = brand\n",
    "        self.camera = camera\n",
    "\n",
    "class SmartPhone(Phone):\n",
    "    def __init__(self,price,brand,camera,os,ram):\n",
    "        super().__init__(price,brand,camera)\n",
    "        self.os = os\n",
    "        self.ram = ram\n",
    "\n",
    "s = SmartPhone(1200,\"vivo\",\"kmall ka camera\",\"window\",28)\n",
    "print(s.os)\n",
    "print(s.brand)"
   ]
  },
  {
   "cell_type": "code",
   "execution_count": 73,
   "id": "f7af7e6a-7150-4785-bb62-de7f739f3669",
   "metadata": {},
   "outputs": [
    {
     "name": "stdout",
     "output_type": "stream",
     "text": [
      "100\n",
      "200\n"
     ]
    }
   ],
   "source": [
    "class Parent:\n",
    "    def __init__(self,numb):\n",
    "        self.__numb = numb\n",
    "\n",
    "    def getnumb(self):\n",
    "        return self.__numb\n",
    "\n",
    "class Child(Parent):\n",
    "    def __init__(self,numb,val):\n",
    "        super().__init__(numb)\n",
    "        self.val = val\n",
    "\n",
    "c = Child(100,200)\n",
    "print(c.getnumb())\n",
    "print(c.val)"
   ]
  },
  {
   "cell_type": "markdown",
   "id": "4edadbb4-c585-4e61-9d04-3bce1bf3790b",
   "metadata": {},
   "source": [
    "Single level inheritence"
   ]
  },
  {
   "cell_type": "code",
   "execution_count": 82,
   "id": "47c0b7b4-ded6-4ddd-b7b5-9b6b3fb32d36",
   "metadata": {},
   "outputs": [
    {
     "name": "stdout",
     "output_type": "stream",
     "text": [
      "inside the constructor\n",
      "buying a smartphone\n"
     ]
    }
   ],
   "source": [
    "class Phone:\n",
    "    def __init__(self,name,brand,memory):\n",
    "        print(\"inside the constructor\")\n",
    "        self.name = name\n",
    "        self.__brand = brand\n",
    "        self.memory = memory\n",
    "\n",
    "    def buy(self):\n",
    "        print(\"buying a phone\")\n",
    "\n",
    "class SmartPhone(Phone):\n",
    "    \n",
    "    def buy(self):\n",
    "        print(\"buying a smartphone\")\n",
    "\n",
    "SmartPhone(\"vivo\",\"vivo brand\",\"128\").buy()\n",
    "# v = SmartPhone(\"vivo\")\n",
    "\n",
    "\n",
    "\n",
    "# +++++++++++++++++++++++++++++++++++++++++++++++++++++++Method OverRiding ++++++++++++++++++++++++++++\n"
   ]
  },
  {
   "cell_type": "markdown",
   "id": "094a1dc2-0807-4925-bbbc-738a6d59b985",
   "metadata": {},
   "source": [
    "Multi-level inheritence"
   ]
  },
  {
   "cell_type": "code",
   "execution_count": 89,
   "id": "de51b863-74b4-4b02-871f-982de7a3cc31",
   "metadata": {},
   "outputs": [
    {
     "name": "stdout",
     "output_type": "stream",
     "text": [
      "reviewing product\n",
      "buying smartphone\n"
     ]
    }
   ],
   "source": [
    "class Product:\n",
    "    def review(self):\n",
    "        print(\"reviewing product\")\n",
    "\n",
    "class Phone(Product):\n",
    "    def __init__(self,name):\n",
    "        self.name = name\n",
    "    def buy(self):\n",
    "        print(\"buying smartphone\")\n",
    "\n",
    "class SmartPhone(Phone):\n",
    "    pass\n",
    "\n",
    "s = SmartPhone(\"vivo\")\n",
    "p = Phone(\"google pixels\")\n",
    "p.review()\n",
    "s.buy()"
   ]
  },
  {
   "cell_type": "markdown",
   "id": "7e0a61e4-be8c-4d5d-9dc1-6109b469dbcd",
   "metadata": {},
   "source": [
    "Hierachy inheritence"
   ]
  },
  {
   "cell_type": "code",
   "execution_count": 110,
   "id": "aeb49c3f-0b85-455f-9639-7dd5a1e5be44",
   "metadata": {},
   "outputs": [
    {
     "name": "stdout",
     "output_type": "stream",
     "text": [
      "1000 vivo 12\n",
      "buying phone\n",
      "1000\n",
      "vivo\n",
      "12\n"
     ]
    }
   ],
   "source": [
    "class Phone:\n",
    "     def __init__(self,price,brand,camera):\n",
    "        self.price = price\n",
    "        self.brand = brand\n",
    "        self.camera = camera\n",
    "\n",
    "     def buy(self):\n",
    "         print(\"buying phone\")\n",
    "\n",
    "class SmartPhone(Phone):\n",
    "    pass\n",
    "class FeaturedPhone(Phone):\n",
    "    pass\n",
    "\n",
    "s = SmartPhone(\"1000\",\"vivo\",12)\n",
    "print(s.price , s.brand , s.camera)\n",
    "s.buy()\n",
    "\n",
    "f = FeaturedPhone(\"1000\",\"vivo\",12)\n",
    "print(f.price ,f.brand , f.camera,sep=\"\\n\")\n",
    "# print(f\"{f.price}\\n{f.brand}\\n\")\n"
   ]
  },
  {
   "cell_type": "code",
   "execution_count": 9,
   "id": "f44d93da-fd90-47ea-a6f9-315411b8476d",
   "metadata": {},
   "outputs": [
    {
     "name": "stdout",
     "output_type": "stream",
     "text": [
      "vivo\n",
      "1200\n",
      "calling\n",
      "reviweing\n"
     ]
    }
   ],
   "source": [
    "class Phone:\n",
    "    def __init__(self,name,price):\n",
    "        self.name = name\n",
    "        self.price = price\n",
    "\n",
    "    def call(self):\n",
    "        print(\"calling\")\n",
    "\n",
    "class Product:\n",
    "    def __init__(self,os,ram):\n",
    "        self.os = os\n",
    "        self.ram = ram\n",
    "    def review(self):\n",
    "        print(\"reviweing\")\n",
    "\n",
    "class SmartPhone(Product,Phone):\n",
    "    pass\n",
    "\n",
    "s = SmartPhone(\"vivo\",1200)\n",
    "print(s.os)\n",
    "print(s.ram)\n",
    "s.call()\n",
    "s.review()"
   ]
  },
  {
   "cell_type": "markdown",
   "id": "537c646c-696e-4da7-8d22-b35fe0ed8ee5",
   "metadata": {},
   "source": [
    "Multiple Inheritence\n"
   ]
  },
  {
   "cell_type": "code",
   "execution_count": 12,
   "id": "5ec571d8-56de-4202-846e-8f1bfe038270",
   "metadata": {},
   "outputs": [
    {
     "name": "stdout",
     "output_type": "stream",
     "text": [
      "70\n"
     ]
    }
   ],
   "source": [
    "class A:\n",
    "    def m1(self):\n",
    "        return 20\n",
    "\n",
    "class B(A):\n",
    "    def m1(self):\n",
    "        return 30\n",
    "    def m2(self):\n",
    "        return 40\n",
    "\n",
    "class C(B):\n",
    "    def m2(self):\n",
    "        return 20\n",
    "\n",
    "obj1 = A()\n",
    "obj2 = B()\n",
    "obj3 = C()\n",
    "\n",
    "print(obj1.m1()+obj3.m1()+obj3.m2())"
   ]
  },
  {
   "cell_type": "markdown",
   "id": "a6379cc2-a70f-450c-90f9-27626153ef29",
   "metadata": {},
   "source": [
    "Method Overloading"
   ]
  },
  {
   "cell_type": "code",
   "execution_count": 15,
   "id": "ec714e09-92c9-4dfc-ba85-5b932e2ab424",
   "metadata": {},
   "outputs": [
    {
     "name": "stdout",
     "output_type": "stream",
     "text": [
      "circle 28.259999999999998\n",
      "ractangle 12\n"
     ]
    }
   ],
   "source": [
    "class Geometry:\n",
    "    def area(self,a,b=0):\n",
    "        if b == 0:\n",
    "            print(\"circle\",3.14*a*a)\n",
    "        else:\n",
    "            print(\"ractangle\",a*b)\n",
    "\n",
    "g = Geometry()\n",
    "g.area(3)\n",
    "g.area(3,4)"
   ]
  },
  {
   "cell_type": "code",
   "execution_count": null,
   "id": "e044c31e-7981-412e-a36f-ea0647e876b4",
   "metadata": {},
   "outputs": [],
   "source": []
  }
 ],
 "metadata": {
  "kernelspec": {
   "display_name": "Python 3 (ipykernel)",
   "language": "python",
   "name": "python3"
  },
  "language_info": {
   "codemirror_mode": {
    "name": "ipython",
    "version": 3
   },
   "file_extension": ".py",
   "mimetype": "text/x-python",
   "name": "python",
   "nbconvert_exporter": "python",
   "pygments_lexer": "ipython3",
   "version": "3.13.5"
  }
 },
 "nbformat": 4,
 "nbformat_minor": 5
}
