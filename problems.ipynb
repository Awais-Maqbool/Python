{
 "cells": [
  {
   "cell_type": "markdown",
   "id": "6601d1d1-e49e-4ded-b857-4bbbaf0f406b",
   "metadata": {},
   "source": [
    "Problem 1\n"
   ]
  },
  {
   "cell_type": "code",
   "execution_count": 10,
   "id": "2022709f-936f-4b58-aedd-ec86403feffc",
   "metadata": {},
   "outputs": [
    {
     "name": "stdin",
     "output_type": "stream",
     "text": [
      "enter numb 1 1\n",
      "enter numb 2 12\n",
      "enter numb 3 2\n"
     ]
    },
    {
     "name": "stdout",
     "output_type": "stream",
     "text": [
      "12\n"
     ]
    }
   ],
   "source": [
    "\n",
    "\n",
    "a = int(input(\"enter numb 1\"))\n",
    "b = int(input(\"enter numb 2\"))\n",
    "c = int(input(\"enter numb 3\"))\n",
    "\n",
    "# if a>b and a>c:\n",
    "#     print(\"max numb is a\" , a)\n",
    "# elif b>a and b>c:\n",
    "#     print(\"max numb is b\" , b)\n",
    "# else:\n",
    "#     print(\"max numb is c\" , c)\n",
    "\n",
    "max = a\n",
    "if b > max:\n",
    "    max = b\n",
    "if c > max:\n",
    "    max = c\n",
    "print(max)\n"
   ]
  },
  {
   "cell_type": "markdown",
   "id": "c9c9a797-d33f-4941-b6bd-edc413f7d72f",
   "metadata": {},
   "source": [
    "problem 2\n"
   ]
  },
  {
   "cell_type": "code",
   "execution_count": 15,
   "id": "f64f3ec2-7bab-4fe4-942c-a03bfbf3654e",
   "metadata": {},
   "outputs": [
    {
     "name": "stdin",
     "output_type": "stream",
     "text": [
      "enter temp 1\n"
     ]
    },
    {
     "name": "stdout",
     "output_type": "stream",
     "text": [
      "33.8\n"
     ]
    }
   ],
   "source": [
    "c = int(input(\"enter temp\"))\n",
    "f = (c * 1.8) + 32\n",
    "print(f)"
   ]
  },
  {
   "cell_type": "markdown",
   "id": "be16dfa6-9023-4b65-a110-cb953162aa3b",
   "metadata": {},
   "source": [
    "problem 3\n"
   ]
  },
  {
   "cell_type": "code",
   "execution_count": 20,
   "id": "8aa7b898-e5bf-452d-bcb2-5928acc6059d",
   "metadata": {},
   "outputs": [
    {
     "name": "stdout",
     "output_type": "stream",
     "text": [
      "6\n",
      "6\n"
     ]
    }
   ],
   "source": [
    "temp = a\n",
    "a = 5\n",
    "b = 6\n",
    "a = b\n",
    "b = temp\n",
    "print(a)\n",
    "print(b)"
   ]
  },
  {
   "cell_type": "markdown",
   "id": "543724da-580c-4b55-991a-008bff975bd9",
   "metadata": {},
   "source": [
    "problem 4\n"
   ]
  },
  {
   "cell_type": "code",
   "execution_count": 25,
   "id": "bb772c3e-51fe-45ec-80e8-76203b1ff706",
   "metadata": {},
   "outputs": [
    {
     "name": "stdin",
     "output_type": "stream",
     "text": [
      "enter numb 2\n",
      "enter numb 3\n"
     ]
    },
    {
     "name": "stdout",
     "output_type": "stream",
     "text": [
      "5\n"
     ]
    }
   ],
   "source": [
    "c = int(input(\"enter numb\"))\n",
    "d = int(input(\"enter numb\"))\n",
    "b = 0\n",
    "z = b + c + d\n",
    "print(z)"
   ]
  },
  {
   "cell_type": "code",
   "execution_count": 6,
   "id": "ddc33513-c3a9-456b-95ab-0aa44350172e",
   "metadata": {},
   "outputs": [
    {
     "name": "stdin",
     "output_type": "stream",
     "text": [
      "enter numb 1234\n"
     ]
    },
    {
     "name": "stdout",
     "output_type": "stream",
     "text": [
      "10\n"
     ]
    }
   ],
   "source": [
    "numb = int(input(\"enter numb\"))\n",
    "\n",
    "a = numb % 10\n",
    "numb = numb // 10\n",
    "b = numb % 10\n",
    "numb = numb // 10\n",
    "c = numb % 10\n",
    "numb = numb//10\n",
    "d = numb % 10\n",
    "res = (a+b+c+d)\n",
    "print(res)\n"
   ]
  },
  {
   "cell_type": "code",
   "execution_count": 28,
   "id": "0e9fcd99-6f76-4e84-bd1c-5164514574df",
   "metadata": {},
   "outputs": [
    {
     "name": "stdout",
     "output_type": "stream",
     "text": [
      "5\n"
     ]
    }
   ],
   "source": [
    "print(345%10)"
   ]
  },
  {
   "cell_type": "code",
   "execution_count": 38,
   "id": "29021146-b202-4721-99a6-5ef7ef267e69",
   "metadata": {},
   "outputs": [
    {
     "name": "stdout",
     "output_type": "stream",
     "text": [
      "5\n"
     ]
    }
   ],
   "source": [
    "print(125%10)"
   ]
  },
  {
   "cell_type": "markdown",
   "id": "171d1b03-76db-4728-84b1-3b7f4f6ca501",
   "metadata": {},
   "source": [
    "Reverse Digits"
   ]
  },
  {
   "cell_type": "code",
   "execution_count": 3,
   "id": "ed81e9b5-60db-4a39-ad9b-63efd751313f",
   "metadata": {},
   "outputs": [
    {
     "name": "stdin",
     "output_type": "stream",
     "text": [
      "Enter the number 123\n"
     ]
    },
    {
     "name": "stdout",
     "output_type": "stream",
     "text": [
      "321\n"
     ]
    }
   ],
   "source": [
    "\n",
    "num=int(input(\"Enter the number\"))\n",
    "print(str(num)[::-1])"
   ]
  },
  {
   "cell_type": "code",
   "execution_count": 2,
   "id": "486d8f7c-a530-455b-8c84-04849a73d9ff",
   "metadata": {},
   "outputs": [
    {
     "name": "stdout",
     "output_type": "stream",
     "text": [
      "5\n"
     ]
    }
   ],
   "source": [
    "print(5)"
   ]
  },
  {
   "cell_type": "markdown",
   "id": "4d1941f4-981e-4dfa-813d-bbd755836e85",
   "metadata": {},
   "source": [
    "even and odd\n"
   ]
  },
  {
   "cell_type": "code",
   "execution_count": 22,
   "id": "4f5b6919-1cc7-43ab-aeae-5cd13dc55edb",
   "metadata": {},
   "outputs": [
    {
     "name": "stdout",
     "output_type": "stream",
     "text": [
      "odd 1\n",
      "even 2\n",
      "odd 3\n",
      "even 4\n"
     ]
    }
   ],
   "source": [
    "n = [1,2,3,4]\n",
    "for i in n:\n",
    "    if i%2==0:\n",
    "        print(\"even\",i)\n",
    "    else:\n",
    "        print(\"odd\",i)"
   ]
  },
  {
   "cell_type": "markdown",
   "id": "c9115856-f693-4488-a422-947499afba1d",
   "metadata": {},
   "source": [
    "Leap-year"
   ]
  },
  {
   "cell_type": "code",
   "execution_count": 40,
   "id": "87700cb2-76b4-4df0-84c3-78ebee673373",
   "metadata": {},
   "outputs": [
    {
     "name": "stdin",
     "output_type": "stream",
     "text": [
      "enter year 2023\n"
     ]
    },
    {
     "name": "stdout",
     "output_type": "stream",
     "text": [
      "not leap year\n"
     ]
    }
   ],
   "source": [
    "year = int(input(\"enter year\"))\n",
    "if (year % 4 == 0 and year % 100 != 0):\n",
    "    print(\"leap year\")\n",
    "elif (year % 4 == 0 and year % 100 == 0):\n",
    "    print(\"leap year\")   \n",
    "else:\n",
    "    print(\"not leap year\")\n"
   ]
  },
  {
   "cell_type": "markdown",
   "id": "150eca26-1ea5-46ab-a114-7f4a01216ac3",
   "metadata": {},
   "source": [
    "eucliean distance"
   ]
  },
  {
   "cell_type": "code",
   "execution_count": 44,
   "id": "7ac1a126-8ea7-4ade-8bcf-b614d19c37bb",
   "metadata": {},
   "outputs": [
    {
     "name": "stdin",
     "output_type": "stream",
     "text": [
      "enter x1 od cord x 25\n",
      "enter x2 od cord x2 30\n",
      "enter y1 od cord y 34\n",
      "enter y2 od cord y2 56\n"
     ]
    },
    {
     "name": "stdout",
     "output_type": "stream",
     "text": [
      "22.561028345356956\n"
     ]
    }
   ],
   "source": [
    "x1 = float(input(\"enter x1 od cord x\"))\n",
    "x2 = float(input(\"enter x2 od cord x2\"))\n",
    "\n",
    "y1 = float(input(\"enter y1 od cord y\"))\n",
    "y2 = float(input(\"enter y2 od cord y2\"))\n",
    "\n",
    "\n",
    "res = ((x2-x1)**2 +(y2-y1)**2)**0.5\n",
    "print(res)\n"
   ]
  },
  {
   "cell_type": "markdown",
   "id": "38162b9b-f264-4dd8-8bd2-acc695eec854",
   "metadata": {},
   "source": [
    "Triangle"
   ]
  },
  {
   "cell_type": "code",
   "execution_count": 48,
   "id": "a72dd6a6-cea1-40c4-8320-9223a519b8da",
   "metadata": {},
   "outputs": [
    {
     "name": "stdin",
     "output_type": "stream",
     "text": [
      "enter numb 90\n",
      "enter numb 90\n",
      "enter numb 0\n"
     ]
    },
    {
     "name": "stdout",
     "output_type": "stream",
     "text": [
      "no triangle\n"
     ]
    }
   ],
   "source": [
    "a = int(input(\"enter numb\"))\n",
    "b = int(input(\"enter numb\"))\n",
    "c = int(input(\"enter numb\"))\n",
    "\n",
    "if (a+b+c==180 and a!=0 and b!=0 and c!=0):\n",
    "    print(\"triangle\")\n",
    "else:\n",
    "    print(\"no triangle\")"
   ]
  },
  {
   "cell_type": "markdown",
   "id": "1db5cec9-3b3a-4490-8b1c-c19f83b5d053",
   "metadata": {},
   "source": [
    "profit loss\n"
   ]
  },
  {
   "cell_type": "code",
   "execution_count": 51,
   "id": "44f2c923-179f-47ab-b311-af63d247d97b",
   "metadata": {},
   "outputs": [
    {
     "name": "stdin",
     "output_type": "stream",
     "text": [
      "enter cost price 25\n",
      "enter sale price 50\n"
     ]
    },
    {
     "name": "stdout",
     "output_type": "stream",
     "text": [
      "profit 25.0\n"
     ]
    }
   ],
   "source": [
    "cp = float(input(\"enter cost price\"))\n",
    "sp = float(input(\"enter sale price\"))\n",
    "\n",
    "if cp > sp:\n",
    "    amount = cp-sp\n",
    "    print(\"loss\",amount)\n",
    "else:\n",
    "    amount = sp - cp\n",
    "    print(\"profit\",amount)"
   ]
  },
  {
   "cell_type": "code",
   "execution_count": null,
   "id": "0554128e-5b68-4f94-9662-035abaa9aa71",
   "metadata": {},
   "outputs": [],
   "source": []
  }
 ],
 "metadata": {
  "kernelspec": {
   "display_name": "Python 3 (ipykernel)",
   "language": "python",
   "name": "python3"
  },
  "language_info": {
   "codemirror_mode": {
    "name": "ipython",
    "version": 3
   },
   "file_extension": ".py",
   "mimetype": "text/x-python",
   "name": "python",
   "nbconvert_exporter": "python",
   "pygments_lexer": "ipython3",
   "version": "3.13.5"
  }
 },
 "nbformat": 4,
 "nbformat_minor": 5
}
