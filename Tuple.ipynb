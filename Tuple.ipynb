{
 "cells": [
  {
   "cell_type": "code",
   "execution_count": 39,
   "id": "0b5bdb4d-0229-4479-8fa9-7a04e28369a3",
   "metadata": {},
   "outputs": [
    {
     "name": "stdout",
     "output_type": "stream",
     "text": [
      "<class 'tuple'>\n"
     ]
    },
    {
     "data": {
      "text/plain": [
       "1780346704720"
      ]
     },
     "execution_count": 39,
     "metadata": {},
     "output_type": "execute_result"
    }
   ],
   "source": [
    "t = (1,2,3,4)\n",
    "print(type(t))\n",
    "id(t)"
   ]
  },
  {
   "cell_type": "code",
   "execution_count": 43,
   "id": "1acc2f1a-8824-4387-aa66-aad90337f7b1",
   "metadata": {},
   "outputs": [
    {
     "name": "stdout",
     "output_type": "stream",
     "text": [
      "1780346701520\n",
      "(1, 2, 3, 4)\n"
     ]
    }
   ],
   "source": [
    "l = list(t)\n",
    "# l.append(5)\n",
    "# l.extend([7,8])\n",
    "# l.insert(2,77)\n",
    "# l.pop()\n",
    "# l.clear()\n",
    "# del l\n",
    "# l.remove(77)\n",
    "# print(l.index(3))\n",
    "# print(l.count(3))\n",
    "\n",
    "t = tuple(l)\n",
    "print(id(t))\n",
    "print(t)"
   ]
  },
  {
   "cell_type": "code",
   "execution_count": 32,
   "id": "c1ce13ac-2c0c-4c73-ba39-60b5c333699b",
   "metadata": {},
   "outputs": [
    {
     "name": "stdout",
     "output_type": "stream",
     "text": [
      "<class 'tuple'>\n"
     ]
    }
   ],
   "source": [
    "t = (\"hello\",)\n",
    "print(type(t))"
   ]
  },
  {
   "cell_type": "code",
   "execution_count": 37,
   "id": "997b40c6-4525-4048-85f4-e12928684313",
   "metadata": {},
   "outputs": [],
   "source": [
    "l = [1,2,3,4]\n",
    "del l[0]"
   ]
  },
  {
   "cell_type": "code",
   "execution_count": 38,
   "id": "7e87512c-8cdf-4c67-9412-265975242a81",
   "metadata": {},
   "outputs": [
    {
     "data": {
      "text/plain": [
       "[2, 3, 4]"
      ]
     },
     "execution_count": 38,
     "metadata": {},
     "output_type": "execute_result"
    }
   ],
   "source": [
    "l"
   ]
  },
  {
   "cell_type": "code",
   "execution_count": 45,
   "id": "33f26eff-1755-48ec-817e-72f398491a8a",
   "metadata": {},
   "outputs": [
    {
     "ename": "AttributeError",
     "evalue": "'tuple' object has no attribute 'append'",
     "output_type": "error",
     "traceback": [
      "\u001b[1;31m---------------------------------------------------------------------------\u001b[0m",
      "\u001b[1;31mAttributeError\u001b[0m                            Traceback (most recent call last)",
      "Cell \u001b[1;32mIn[45], line 2\u001b[0m\n\u001b[0;32m      1\u001b[0m t \u001b[38;5;241m=\u001b[39m (\u001b[38;5;241m1\u001b[39m,\u001b[38;5;241m2\u001b[39m,\u001b[38;5;241m3\u001b[39m,\u001b[38;5;241m4\u001b[39m)\n\u001b[1;32m----> 2\u001b[0m t\u001b[38;5;241m.\u001b[39mappend(\u001b[38;5;241m7\u001b[39m)\n\u001b[0;32m      3\u001b[0m l \u001b[38;5;241m=\u001b[39m \u001b[38;5;28mlist\u001b[39m(t)\n\u001b[0;32m      4\u001b[0m l\u001b[38;5;241m.\u001b[39mappend(\u001b[38;5;241m5\u001b[39m)\n",
      "\u001b[1;31mAttributeError\u001b[0m: 'tuple' object has no attribute 'append'"
     ]
    }
   ],
   "source": [
    "t = (1,2,3,4)\n",
    "# t.append(7)\n",
    "l = list(t)\n",
    "l.append(5)\n",
    "t = tuple(l)\n",
    "print(t)"
   ]
  },
  {
   "cell_type": "code",
   "execution_count": null,
   "id": "6512eca3-a918-4fae-95f0-85f92fa5eece",
   "metadata": {},
   "outputs": [],
   "source": []
  }
 ],
 "metadata": {
  "kernelspec": {
   "display_name": "Python 3 (ipykernel)",
   "language": "python",
   "name": "python3"
  },
  "language_info": {
   "codemirror_mode": {
    "name": "ipython",
    "version": 3
   },
   "file_extension": ".py",
   "mimetype": "text/x-python",
   "name": "python",
   "nbconvert_exporter": "python",
   "pygments_lexer": "ipython3",
   "version": "3.13.5"
  }
 },
 "nbformat": 4,
 "nbformat_minor": 5
}
