{
 "cells": [
  {
   "cell_type": "code",
   "execution_count": 7,
   "id": "56210da4-8439-4bc4-a5bf-7287b42079ef",
   "metadata": {},
   "outputs": [
    {
     "name": "stdout",
     "output_type": "stream",
     "text": [
      "time taken 4\n",
      "time taken 2\n",
      "time taken 1\n",
      "4.008167600026354\n"
     ]
    }
   ],
   "source": [
    "import threading,time\n",
    "\n",
    "\n",
    "def prac(sec):\n",
    "    print(f\"time taken {sec}\")\n",
    "    time.sleep(sec)\n",
    "\n",
    "# time1 = time.perf_counter()\n",
    "# prac(4)\n",
    "# prac(2)\n",
    "# prac(1)\n",
    "# time2 = time.perf_counter()\n",
    "# print(time2-time1)\n",
    "\n",
    "time3 = time.perf_counter()\n",
    "t1 = threading.Thread(target=prac , args = [4])\n",
    "t2 = threading.Thread(target=prac , args = [2])\n",
    "t3 = threading.Thread(target=prac, args = [1])\n",
    "\n",
    "t1.start()\n",
    "t2.start()\n",
    "t3.start()\n",
    "\n",
    "t1.join()\n",
    "t2.join()\n",
    "t3.join()\n",
    "time4 = time.perf_counter()\n",
    "print(time4-time3)"
   ]
  },
  {
   "cell_type": "code",
   "execution_count": 14,
   "id": "fc966a46-2461-4c80-a089-d13ab51f95cb",
   "metadata": {},
   "outputs": [
    {
     "name": "stdout",
     "output_type": "stream",
     "text": [
      "time taken 4\n",
      "time taken 3\n",
      "time taken 2\n",
      "awais\n",
      "maqbool\n",
      "4.007077899994329\n"
     ]
    }
   ],
   "source": [
    "import threading,time\n",
    "\n",
    "class Z:\n",
    "    def prac(sec):\n",
    "        print(f\"time taken {sec}\")\n",
    "        time.sleep(sec)\n",
    "time1 = time.perf_counter()\n",
    "\n",
    "# prac(4)\n",
    "# prac(3)\n",
    "# prac(2)\n",
    "\n",
    "t1 = threading.Thread(target=prac,args=[4])\n",
    "t2 = threading.Thread(target=prac,args=[3])\n",
    "t3 = threading.Thread(target=prac,args=[2])\n",
    "\n",
    "t1.start()\n",
    "t2.start()\n",
    "t3.start()\n",
    "\n",
    "print(\"awais\")\n",
    "\n",
    "t1.join()\n",
    "t2.join()\n",
    "t3.join()\n",
    "\n",
    "print(\"maqbool\")\n",
    "\n",
    "time2 = time.perf_counter()\n",
    "print(time2-time1)\n",
    "    "
   ]
  },
  {
   "cell_type": "code",
   "execution_count": null,
   "id": "8dbee79a-325c-467d-8a5d-9a1355df08da",
   "metadata": {},
   "outputs": [],
   "source": []
  }
 ],
 "metadata": {
  "kernelspec": {
   "display_name": "Python 3 (ipykernel)",
   "language": "python",
   "name": "python3"
  },
  "language_info": {
   "codemirror_mode": {
    "name": "ipython",
    "version": 3
   },
   "file_extension": ".py",
   "mimetype": "text/x-python",
   "name": "python",
   "nbconvert_exporter": "python",
   "pygments_lexer": "ipython3",
   "version": "3.13.5"
  }
 },
 "nbformat": 4,
 "nbformat_minor": 5
}
