{
 "cells": [
  {
   "cell_type": "code",
   "execution_count": 12,
   "id": "f5d90dea-d209-4e81-9721-d7b57899ef33",
   "metadata": {},
   "outputs": [
    {
     "name": "stdout",
     "output_type": "stream",
     "text": [
      "0\n",
      "1\n",
      "3\n",
      "6\n",
      "10\n"
     ]
    }
   ],
   "source": [
    "def multiply(a,b):\n",
    " result = 0\n",
    " for i in range(b):\n",
    "    result = result + i\n",
    "print(result)\n",
    "multiply(0,5)"
   ]
  },
  {
   "cell_type": "markdown",
   "id": "053fac0c-a206-497d-9721-c0f516d7d67c",
   "metadata": {},
   "source": [
    "Recursion\n"
   ]
  },
  {
   "cell_type": "code",
   "execution_count": 20,
   "id": "9a039f95-69a5-4adc-bb97-19bf4c9fd816",
   "metadata": {},
   "outputs": [
    {
     "name": "stdout",
     "output_type": "stream",
     "text": [
      "30\n"
     ]
    }
   ],
   "source": [
    "def mul(a,b):\n",
    "    if b==1:\n",
    "        return a\n",
    "    else:\n",
    "        return a + mul(a,b-1)\n",
    "\n",
    "print(mul(5,6))"
   ]
  },
  {
   "cell_type": "code",
   "execution_count": 22,
   "id": "50bb8eb1-efae-4ab9-af11-7b08d0cdd8c2",
   "metadata": {},
   "outputs": [
    {
     "name": "stdout",
     "output_type": "stream",
     "text": [
      "120\n"
     ]
    }
   ],
   "source": [
    "def fac(numb):\n",
    "    if numb == 1:\n",
    "        return numb\n",
    "    else:\n",
    "        return numb*fac(numb-1)\n",
    "\n",
    "print(fac(5))"
   ]
  },
  {
   "cell_type": "code",
   "execution_count": 30,
   "id": "007ebf78-b3c8-4611-a736-479d25ab6d28",
   "metadata": {},
   "outputs": [
    {
     "name": "stdout",
     "output_type": "stream",
     "text": [
      "not a palindrome\n"
     ]
    }
   ],
   "source": [
    "def pali(text):\n",
    "    if len(text) == 1:\n",
    "        print(\"palindrome\")\n",
    "    else:\n",
    "        if text[0] == text [-1]:\n",
    "            pali(text[1:-1])\n",
    "        else:\n",
    "            print(\"not a palindrome\")\n",
    "pali(\"papa\")"
   ]
  },
  {
   "cell_type": "code",
   "execution_count": 33,
   "id": "c73ea98d-2131-4807-830f-6244c871d76c",
   "metadata": {},
   "outputs": [
    {
     "data": {
      "text/plain": [
       "30"
      ]
     },
     "execution_count": 33,
     "metadata": {},
     "output_type": "execute_result"
    }
   ],
   "source": [
    "def sum(a,b):\n",
    "    if b == 1:\n",
    "        return a\n",
    "    else:\n",
    "        return a + sum(a,b-1)\n",
    "sum(5,6)"
   ]
  },
  {
   "cell_type": "code",
   "execution_count": 34,
   "id": "d31c0a1c-b4d7-49f4-b7b3-f9da9e0e309a",
   "metadata": {},
   "outputs": [
    {
     "name": "stdout",
     "output_type": "stream",
     "text": [
      "720\n"
     ]
    }
   ],
   "source": [
    "def fac(numb):\n",
    "    if numb == 1:\n",
    "        return numb\n",
    "    else:\n",
    "        return numb * fac(numb-1)\n",
    "print(fac(6))"
   ]
  },
  {
   "cell_type": "code",
   "execution_count": 32,
   "id": "5dfd03a7-c509-4ce2-b617-d467764b75be",
   "metadata": {},
   "outputs": [
    {
     "name": "stdout",
     "output_type": "stream",
     "text": [
      "palindrome\n"
     ]
    }
   ],
   "source": [
    "def pali(text):\n",
    "    if(len(text))<=1:\n",
    "        print(\"palindrome\")\n",
    "    else:\n",
    "        if(text[0] == text [-1]):\n",
    "            pali(text[1:-1])\n",
    "        else:\n",
    "            print(\"not palindrome\")\n",
    "pali(\"abba\")"
   ]
  },
  {
   "cell_type": "code",
   "execution_count": 7,
   "id": "6d96a156-0931-4eba-99b1-045d778311d3",
   "metadata": {},
   "outputs": [
    {
     "name": "stdout",
     "output_type": "stream",
     "text": [
      "120\n"
     ]
    }
   ],
   "source": [
    "def fac(numb):\n",
    "    if numb == 1:\n",
    "        return numb\n",
    "    else:\n",
    "        return numb * fac(numb-1)\n",
    "print(fac(5))"
   ]
  },
  {
   "cell_type": "code",
   "execution_count": 11,
   "id": "579135fb-7e61-4ded-9d56-daad05352096",
   "metadata": {},
   "outputs": [
    {
     "name": "stdout",
     "output_type": "stream",
     "text": [
      "30\n"
     ]
    }
   ],
   "source": [
    "def fac(a,b):\n",
    "    if b == 1:\n",
    "        return a\n",
    "    else:\n",
    "        return a + fac(a,b-1)\n",
    "print(fac(5,6))"
   ]
  },
  {
   "cell_type": "code",
   "execution_count": 24,
   "id": "ff1228e0-12cc-4b44-b1ab-eb22a36c5358",
   "metadata": {},
   "outputs": [
    {
     "name": "stdout",
     "output_type": "stream",
     "text": [
      "12\n"
     ]
    }
   ],
   "source": [
    "def sum(a,b):\n",
    "    if b == 1:\n",
    "        return a\n",
    "    else:\n",
    "        return a + sum(a,b-1)\n",
    "print(sum(3,4))"
   ]
  },
  {
   "cell_type": "code",
   "execution_count": 2,
   "id": "0629980a-fece-41ba-a7ca-d87cf3b7cab3",
   "metadata": {},
   "outputs": [
    {
     "name": "stdout",
     "output_type": "stream",
     "text": [
      "120\n"
     ]
    }
   ],
   "source": [
    "def fac(numb):\n",
    "    if numb == 1:\n",
    "        return numb\n",
    "    else:\n",
    "        return numb * fac(numb-1)\n",
    "print(fac(5))"
   ]
  },
  {
   "cell_type": "code",
   "execution_count": 3,
   "id": "6cb5c015-4f45-4996-bf0d-3e3ac8a30e98",
   "metadata": {},
   "outputs": [
    {
     "name": "stdout",
     "output_type": "stream",
     "text": [
      "5\n"
     ]
    }
   ],
   "source": [
    "print(5)"
   ]
  },
  {
   "cell_type": "code",
   "execution_count": 29,
   "id": "45abb943-27ab-4539-a4d4-16dbaeedbba8",
   "metadata": {},
   "outputs": [
    {
     "name": "stdout",
     "output_type": "stream",
     "text": [
      "not a palindrome\n"
     ]
    }
   ],
   "source": [
    "def palin(text):\n",
    "    if (len(text)) <= 1:\n",
    "        print(\"palindrome\")\n",
    "    else:\n",
    "        if text[0] == text [-1]:\n",
    "            palin(text[1:-1])\n",
    "        else:\n",
    "            print(\"not a palindrome\")\n",
    "palin(\"papa\")"
   ]
  },
  {
   "cell_type": "code",
   "execution_count": 23,
   "id": "0031d073-09b6-4222-9968-179934f516c4",
   "metadata": {},
   "outputs": [
    {
     "name": "stdout",
     "output_type": "stream",
     "text": [
      "12\n"
     ]
    }
   ],
   "source": [
    "def sum(a,b):\n",
    "    result = 0\n",
    "    for i in range(b):\n",
    "        result = result + a\n",
    "    print(result)\n",
    "sum(3,4)\n"
   ]
  },
  {
   "cell_type": "code",
   "execution_count": 33,
   "id": "294a9bf2-2691-4e32-8911-6cc1742b235a",
   "metadata": {},
   "outputs": [
    {
     "name": "stdout",
     "output_type": "stream",
     "text": [
      "75025\n"
     ]
    }
   ],
   "source": [
    "def fib(m):\n",
    "    if m==0 or m==1:\n",
    "        return 1\n",
    "    else:\n",
    "        return fib(m-1) + fib(m-2)\n",
    "print(fib(24))"
   ]
  },
  {
   "cell_type": "code",
   "execution_count": null,
   "id": "4bc3a44b-c158-467e-a5b3-d9a60669a437",
   "metadata": {},
   "outputs": [],
   "source": []
  }
 ],
 "metadata": {
  "kernelspec": {
   "display_name": "Python 3 (ipykernel)",
   "language": "python",
   "name": "python3"
  },
  "language_info": {
   "codemirror_mode": {
    "name": "ipython",
    "version": 3
   },
   "file_extension": ".py",
   "mimetype": "text/x-python",
   "name": "python",
   "nbconvert_exporter": "python",
   "pygments_lexer": "ipython3",
   "version": "3.13.5"
  }
 },
 "nbformat": 4,
 "nbformat_minor": 5
}
