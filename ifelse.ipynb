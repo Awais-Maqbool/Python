{
 "cells": [
  {
   "cell_type": "code",
   "execution_count": 45,
   "id": "f1794048-ab7d-476f-8d75-b3ebd60eb90a",
   "metadata": {},
   "outputs": [
    {
     "name": "stdin",
     "output_type": "stream",
     "text": [
      "enter email awais\n"
     ]
    },
    {
     "name": "stdout",
     "output_type": "stream",
     "text": [
      "wrong email\n"
     ]
    }
   ],
   "source": [
    "email = input(\"enter email\")\n",
    "\n",
    "\n",
    "if \"@\" in email:\n",
    "    password = input(\"enter password\")\n",
    "    if(email==\"awaismaqbool@\" and password == \"12345\"):\n",
    "     print(\"welcome\")\n",
    "    elif email == \"awaismaqbool@\" and password != 12345:\n",
    "      print(\"wrong password\")\n",
    "      password = input(\"enter password again\")\n",
    "      if(password == \"12345\"):\n",
    "        print(\"now correct\")\n",
    "      else:\n",
    "        print(\"still wrong\")\n",
    "    else:\n",
    "      print(\"no entry\")\n",
    "else:\n",
    "    print(\"wrong email\")\n"
   ]
  },
  {
   "cell_type": "code",
   "execution_count": null,
   "id": "eccb9461-e74e-4e57-97e2-a42c435289ad",
   "metadata": {},
   "outputs": [],
   "source": []
  }
 ],
 "metadata": {
  "kernelspec": {
   "display_name": "Python 3 (ipykernel)",
   "language": "python",
   "name": "python3"
  },
  "language_info": {
   "codemirror_mode": {
    "name": "ipython",
    "version": 3
   },
   "file_extension": ".py",
   "mimetype": "text/x-python",
   "name": "python",
   "nbconvert_exporter": "python",
   "pygments_lexer": "ipython3",
   "version": "3.13.5"
  }
 },
 "nbformat": 4,
 "nbformat_minor": 5
}
