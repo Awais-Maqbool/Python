{
 "cells": [
  {
   "cell_type": "code",
   "execution_count": 1,
   "id": "1204a757-7c5e-4761-b2b9-666cf5f26a4b",
   "metadata": {},
   "outputs": [
    {
     "name": "stdout",
     "output_type": "stream",
     "text": [
      "1\n",
      "2\n",
      "34\n",
      "5\n"
     ]
    }
   ],
   "source": [
    "z = [1,2,34,5]\n",
    "for i in z:\n",
    "    print(i)"
   ]
  },
  {
   "cell_type": "code",
   "execution_count": 10,
   "id": "66d84b2c-6b85-43c3-98da-d48c53e36d28",
   "metadata": {},
   "outputs": [
    {
     "name": "stdout",
     "output_type": "stream",
     "text": [
      "1\n",
      "2\n",
      "34\n",
      "5\n"
     ]
    }
   ],
   "source": [
    "i = 0\n",
    "while(i<len(z)):\n",
    "    print(z[i])\n",
    "    i=i+1"
   ]
  },
  {
   "cell_type": "code",
   "execution_count": 12,
   "id": "828e0be3-2f29-44d1-8770-e6a4d9021080",
   "metadata": {},
   "outputs": [
    {
     "name": "stdin",
     "output_type": "stream",
     "text": [
      "enter number 2\n"
     ]
    },
    {
     "name": "stdout",
     "output_type": "stream",
     "text": [
      "2 * 0 = 0\n",
      "2 * 1 = 2\n",
      "2 * 2 = 4\n",
      "2 * 3 = 6\n",
      "2 * 4 = 8\n",
      "2 * 5 = 10\n",
      "2 * 6 = 12\n",
      "2 * 7 = 14\n",
      "2 * 8 = 16\n",
      "2 * 9 = 18\n"
     ]
    }
   ],
   "source": [
    "z = int(input(\"enter number\"))\n",
    "i = 0\n",
    "while(i<10):\n",
    "    print(z,\"*\" , i , \"=\" , z*i)\n",
    "    i = i+1"
   ]
  },
  {
   "cell_type": "code",
   "execution_count": null,
   "id": "c31d3530-384f-4936-95ba-6eeb388a7972",
   "metadata": {},
   "outputs": [
    {
     "name": "stdout",
     "output_type": "stream",
     "text": [
      "21\n"
     ]
    }
   ],
   "source": [
    "## import random\n",
    "rn = int(random.random()*100)\n",
    "gn = int(input(\"enter number\"))\n",
    "counter = 1\n",
    "if(gn == rn):\n",
    "    print(\"you won the game\")\n",
    "    while(gn != rn):\n",
    "        if(gn<rn):\n",
    "            print(\"guess higher number\")\n",
    "            gn = int(input(\"enter number\"))\n",
    "            counter +=1\n",
    "        else:\n",
    "            print(\"guess lower number\")\n",
    "            gn = int(input(\"enter number\"))\n",
    "            counter +=1\n",
    "else:\n",
    "    \n",
    "    print(\"you won the game by values\":counter)\n",
    "            \n",
    "            \n"
   ]
  },
  {
   "cell_type": "code",
   "execution_count": null,
   "id": "09b3cbc0-a452-4532-8c70-6d0ccacd9739",
   "metadata": {},
   "outputs": [],
   "source": []
  }
 ],
 "metadata": {
  "kernelspec": {
   "display_name": "Python 3 (ipykernel)",
   "language": "python",
   "name": "python3"
  },
  "language_info": {
   "codemirror_mode": {
    "name": "ipython",
    "version": 3
   },
   "file_extension": ".py",
   "mimetype": "text/x-python",
   "name": "python",
   "nbconvert_exporter": "python",
   "pygments_lexer": "ipython3",
   "version": "3.13.5"
  }
 },
 "nbformat": 4,
 "nbformat_minor": 5
}
