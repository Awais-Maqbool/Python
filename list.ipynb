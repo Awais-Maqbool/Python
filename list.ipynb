{
 "cells": [
  {
   "cell_type": "code",
   "execution_count": 1,
   "id": "fd32ed19-0c3d-46f9-8c8a-a185e9adf32d",
   "metadata": {},
   "outputs": [
    {
     "name": "stdout",
     "output_type": "stream",
     "text": [
      "1\n",
      "2\n",
      "3\n",
      "4\n",
      "5\n"
     ]
    }
   ],
   "source": [
    "l = [1,2,6,3,5,4,7,9,8]\n",
    "for i in l:\n",
    "    print(i)"
   ]
  },
  {
   "cell_type": "code",
   "execution_count": 2,
   "id": "abd7026b-621d-4d6c-b93b-a0b67d1b48a6",
   "metadata": {},
   "outputs": [
    {
     "name": "stdout",
     "output_type": "stream",
     "text": [
      "1\n",
      "2\n",
      "3\n",
      "4\n",
      "5\n"
     ]
    }
   ],
   "source": [
    "i = 0\n",
    "while(i<len(l)):\n",
    "    print(l[i])\n",
    "    i=i+1"
   ]
  },
  {
   "cell_type": "code",
   "execution_count": 4,
   "id": "819feeec-71a0-4b9a-8f7f-a1bfc1e93623",
   "metadata": {},
   "outputs": [
    {
     "name": "stdout",
     "output_type": "stream",
     "text": [
      "[9, 2, 3, 4, 5]\n"
     ]
    }
   ],
   "source": [
    "l[0]=9\n",
    "print(l)"
   ]
  },
  {
   "cell_type": "code",
   "execution_count": 14,
   "id": "04ca558d-6aae-4d82-97a8-2954c0f81a16",
   "metadata": {},
   "outputs": [
    {
     "name": "stdout",
     "output_type": "stream",
     "text": [
      "10\n"
     ]
    }
   ],
   "source": [
    "l = [1,2,6,3,5,4,7,9,8,\"awais\"]\n",
    "print(len(l))\n",
    "# print(min(l))\n",
    "# print(max(l))\n",
    "# print(sorted(l))\n",
    "# print(sorted(l,reverse=True))\n"
   ]
  },
  {
   "cell_type": "code",
   "execution_count": 15,
   "id": "37df8d27-5149-439e-8a66-f9e439586e9f",
   "metadata": {},
   "outputs": [
    {
     "name": "stdout",
     "output_type": "stream",
     "text": [
      "[]\n"
     ]
    }
   ],
   "source": [
    "l= []\n",
    "print(l)"
   ]
  },
  {
   "cell_type": "code",
   "execution_count": 22,
   "id": "e6690773-f8dc-4510-b561-0ebb40e9f2ba",
   "metadata": {},
   "outputs": [
    {
     "name": "stdout",
     "output_type": "stream",
     "text": [
      "[5, 4, 3, 2, 1]\n"
     ]
    }
   ],
   "source": [
    "l = [1,2,3,4,5]\n",
    "print(l[::-1])"
   ]
  },
  {
   "cell_type": "code",
   "execution_count": 33,
   "id": "9234311b-da00-4b97-955b-8e1f8d6b689d",
   "metadata": {},
   "outputs": [
    {
     "data": {
      "text/plain": [
       "6"
      ]
     },
     "execution_count": 33,
     "metadata": {},
     "output_type": "execute_result"
    }
   ],
   "source": [
    "l2 = [1,2,3,[4,5,[6,7]]]\n",
    "l2[3][2][0]"
   ]
  },
  {
   "cell_type": "code",
   "execution_count": 41,
   "id": "5a35cdfd-6e69-4584-9c28-8a1a6e2e8112",
   "metadata": {},
   "outputs": [],
   "source": [
    "l4=[[[1,2,],[3,4]],[[5,6],[7,8]]]"
   ]
  },
  {
   "cell_type": "code",
   "execution_count": 49,
   "id": "9a9eecac-bc17-46f1-84ad-98d24bf058d4",
   "metadata": {},
   "outputs": [
    {
     "data": {
      "text/plain": [
       "7"
      ]
     },
     "execution_count": 49,
     "metadata": {},
     "output_type": "execute_result"
    }
   ],
   "source": [
    "l4[1][1][0]"
   ]
  },
  {
   "cell_type": "code",
   "execution_count": 61,
   "id": "ef50c4fa-1c68-408b-a7fd-5815464d6a22",
   "metadata": {},
   "outputs": [
    {
     "name": "stdout",
     "output_type": "stream",
     "text": [
      "[1, 2, 78, 3, 4, 5, [8, 9, 0], 8, 9, 0]\n"
     ]
    }
   ],
   "source": [
    "l = [1,2,3,4,5]\n",
    "l2 = [8,9,0]\n",
    "l.append(l2)\n",
    "l.extend(l2)\n",
    "l.insert(2,78)\n",
    "print(l)"
   ]
  },
  {
   "cell_type": "code",
   "execution_count": 71,
   "id": "d3fcb77f-42c7-4081-962c-47c33446aabc",
   "metadata": {},
   "outputs": [
    {
     "name": "stdout",
     "output_type": "stream",
     "text": [
      "[2]\n"
     ]
    }
   ],
   "source": [
    "l = [1,2,3,4]\n",
    "l.remove(3)\n",
    "l.pop()\n",
    "# l.clear()\n",
    "del l[0]\n",
    "print(l)"
   ]
  },
  {
   "cell_type": "code",
   "execution_count": 99,
   "id": "e1bdd833-7456-48d8-81e5-c6e2fd0efd4a",
   "metadata": {},
   "outputs": [
    {
     "name": "stdout",
     "output_type": "stream",
     "text": [
      "How\n",
      "Are\n",
      "You??\n",
      "['How', 'Are', 'You??']\n"
     ]
    },
    {
     "data": {
      "text/plain": [
       "'How Are You??'"
      ]
     },
     "execution_count": 99,
     "metadata": {},
     "output_type": "execute_result"
    }
   ],
   "source": [
    "s = \"how are you??\"\n",
    "l = []\n",
    "for i in s.split():\n",
    "    print(i.capitalize())\n",
    "    l.append(i.capitalize())\n",
    "print(l)\n",
    "\" \".join(l)"
   ]
  },
  {
   "cell_type": "code",
   "execution_count": 108,
   "id": "7cd3ebd0-eb72-4652-b53e-4579d15477b7",
   "metadata": {},
   "outputs": [
    {
     "name": "stdout",
     "output_type": "stream",
     "text": [
      "abcij\n"
     ]
    }
   ],
   "source": [
    "s = \"abcij@gmail.com\"\n",
    "print(s[:s.find(\"@\")])\n"
   ]
  },
  {
   "cell_type": "code",
   "execution_count": 111,
   "id": "2d164609-ca35-4033-bbeb-135de74b54e5",
   "metadata": {},
   "outputs": [
    {
     "ename": "IndentationError",
     "evalue": "expected an indented block after 'if' statement on line 4 (1172569145.py, line 5)",
     "output_type": "error",
     "traceback": [
      "\u001b[1;36m  Cell \u001b[1;32mIn[111], line 5\u001b[1;36m\u001b[0m\n\u001b[1;33m    l2.append()\u001b[0m\n\u001b[1;37m    ^\u001b[0m\n\u001b[1;31mIndentationError\u001b[0m\u001b[1;31m:\u001b[0m expected an indented block after 'if' statement on line 4\n"
     ]
    }
   ],
   "source": [
    "l2 = [1,1,2,2,3,3,4,4]\n",
    "l = []\n",
    "for i in l2:\n",
    "    if i not in l1:\n",
    "    l.append()"
   ]
  },
  {
   "cell_type": "code",
   "execution_count": null,
   "id": "64ef745e-dddd-44af-970a-df088610c86d",
   "metadata": {},
   "outputs": [],
   "source": []
  }
 ],
 "metadata": {
  "kernelspec": {
   "display_name": "Python 3 (ipykernel)",
   "language": "python",
   "name": "python3"
  },
  "language_info": {
   "codemirror_mode": {
    "name": "ipython",
    "version": 3
   },
   "file_extension": ".py",
   "mimetype": "text/x-python",
   "name": "python",
   "nbconvert_exporter": "python",
   "pygments_lexer": "ipython3",
   "version": "3.13.5"
  }
 },
 "nbformat": 4,
 "nbformat_minor": 5
}
