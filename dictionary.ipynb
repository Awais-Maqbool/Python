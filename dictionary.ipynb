{
 "cells": [
  {
   "cell_type": "code",
   "execution_count": 24,
   "id": "4d4fd2bd-cec8-49e2-a2eb-40021c262977",
   "metadata": {},
   "outputs": [
    {
     "name": "stdout",
     "output_type": "stream",
     "text": [
      "{}\n"
     ]
    }
   ],
   "source": [
    "d = {(1,23):\"awais\"}\n",
    "del d[(1,23)]\n",
    "print(d)"
   ]
  },
  {
   "cell_type": "code",
   "execution_count": 22,
   "id": "62624028-1047-4669-95fa-98bdd41eb6ce",
   "metadata": {},
   "outputs": [
    {
     "name": "stdout",
     "output_type": "stream",
     "text": [
      "{'name': 'awais', 'class': 'bs-it', 'marks': {'m1': 60, 'm2': 90, 'm3': 90}}\n"
     ]
    }
   ],
   "source": [
    "d = {\"name\":\"awais\",\"class\":\"bs-it\",\"marks\":{\"m1\":50,\"m2\":90}}\n",
    "\n",
    "d[\"marks\"][\"m1\"]=60\n",
    "d[\"marks\"][\"m3\"]=90\n",
    "print(d)"
   ]
  },
  {
   "cell_type": "code",
   "execution_count": 34,
   "id": "616f7566-3047-4a4e-bf19-db1b1a8992e8",
   "metadata": {},
   "outputs": [
    {
     "name": "stdout",
     "output_type": "stream",
     "text": [
      "awais\n",
      "{'name': 'awais', 'age': 40}\n",
      "awais\n",
      "40\n"
     ]
    },
    {
     "data": {
      "text/plain": [
       "dict_values(['awais', 40])"
      ]
     },
     "execution_count": 34,
     "metadata": {},
     "output_type": "execute_result"
    }
   ],
   "source": [
    "d = {\n",
    "    \"name\":\"awais\",\n",
    "    \"age\":12,\n",
    "}\n",
    "print(d[\"name\"])\n",
    "\n",
    "d[\"age\"]=40\n",
    "d[\"age\"]\n",
    "d[\"class\"]=\"bs-it\"\n",
    "del d[\"class\"]\n",
    "print(d)\n",
    "for i in d:\n",
    "    print(d[i])\n",
    "d.keys()\n",
    "d.values()"
   ]
  },
  {
   "cell_type": "code",
   "execution_count": null,
   "id": "ccbf3ac5-bb61-4ea6-9e83-471a535fdda0",
   "metadata": {},
   "outputs": [],
   "source": []
  }
 ],
 "metadata": {
  "kernelspec": {
   "display_name": "Python 3 (ipykernel)",
   "language": "python",
   "name": "python3"
  },
  "language_info": {
   "codemirror_mode": {
    "name": "ipython",
    "version": 3
   },
   "file_extension": ".py",
   "mimetype": "text/x-python",
   "name": "python",
   "nbconvert_exporter": "python",
   "pygments_lexer": "ipython3",
   "version": "3.13.5"
  }
 },
 "nbformat": 4,
 "nbformat_minor": 5
}
